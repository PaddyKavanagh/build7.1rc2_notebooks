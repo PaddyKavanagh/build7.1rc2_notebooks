{
 "cells": [
  {
   "cell_type": "markdown",
   "metadata": {},
   "source": [
    "# Run level 2A and 2B pipelines on LRS-SLIT data using jwst.pipeline classes"
   ]
  },
  {
   "cell_type": "markdown",
   "metadata": {},
   "source": [
    "### by Patrick Kavanagh (DIAS, Ireland) August 20th 2017"
   ]
  },
  {
   "cell_type": "markdown",
   "metadata": {},
   "source": [
    "This notebook demonstrates the execution of the level 2A and 2B pipelines for LRS-SLIT data in Python using the jwst.pipeline classes.\n",
    "\n",
    "For a description of the pipeline classes see:\n",
    "\n",
    "http://ssb.stsci.edu/doc/jwst_dev/jwst/pipeline/index.html\n",
    "\n",
    "The files used in this notebook is an undithered MIRISim simulation of a point source with a blackbody spectrum plus emission lines. A dedicated background observation is also used for subtraction at the level 2 stage."
   ]
  },
  {
   "cell_type": "markdown",
   "metadata": {},
   "source": [
    "#### Imports"
   ]
  },
  {
   "cell_type": "code",
   "execution_count": 1,
   "metadata": {
    "collapsed": true
   },
   "outputs": [],
   "source": [
    "import os, glob, shutil\n",
    "\n",
    "import numpy as np\n",
    "from astropy.io import fits\n",
    "from matplotlib.colors import LogNorm\n",
    "import matplotlib.pyplot as plt\n",
    "from subprocess import call\n",
    "\n",
    "from jwst import datamodels\n",
    "\n",
    "%matplotlib inline\n",
    "# %matplotlib notebook # if you want interactive plots"
   ]
  },
  {
   "cell_type": "markdown",
   "metadata": {},
   "source": [
    "#### Set input file:"
   ]
  },
  {
   "cell_type": "code",
   "execution_count": 2,
   "metadata": {
    "collapsed": true
   },
   "outputs": [],
   "source": [
    "# set input filenames and directory. In this example, the files are located in a folder called 'LRS-SLIT_demo_data'\n",
    "input_dir = 'LRS-SLIT_demo_data'\n",
    "input_file = glob.glob(os.path.join(input_dir,'det*.fits'))[0]\n",
    "\n",
    "# load all files including the background observation\n",
    "all_input_files = glob.glob(os.path.join(input_dir,'*.fits'))\n",
    "\n",
    "# set the output directory name\n",
    "output_dir = input_dir + '_pipeline'\n",
    "\n",
    "# if the output directory exists, delete it\n",
    "if os.path.exists(output_dir): shutil.rmtree(output_dir)\n",
    "\n",
    "# create the output directory\n",
    "os.mkdir(output_dir)"
   ]
  },
  {
   "cell_type": "markdown",
   "metadata": {},
   "source": [
    "#### print some information about the input files. We will just look at the first file"
   ]
  },
  {
   "cell_type": "code",
   "execution_count": 3,
   "metadata": {},
   "outputs": [
    {
     "name": "stdout",
     "output_type": "stream",
     "text": [
      "ID\t Type\t\t\t Filter\t subAr\t nInts\t nGrps\t rdPatt\t ExpTime (s)\n",
      "--------------------------------------------------------------------------------------------------\n",
      "MIRISim\t MIR_LRS-FIXEDSLIT\t P750L\t FULL\t 2\t 50\t FAST\t 277.5\n",
      "\n",
      "\n",
      "\n",
      "Filename: LRS-SLIT_demo_data/det_image_1_MIRIMAGE_P750Lexp1.fits\n",
      "No.    Name      Ver    Type      Cards   Dimensions   Format\n",
      "  0  PRIMARY       1 PrimaryHDU     147   ()      \n",
      "  1  SCI           1 ImageHDU        14   (1032, 1024, 50, 2)   float32   \n",
      "  2  REFOUT        1 ImageHDU        14   (258, 1024, 50, 2)   float32   \n",
      "  3  PIXELDQ       1 ImageHDU        10   (1032, 1024)   int32 (rescales to uint32)   \n",
      "  4  PIXELDQ_DEF    1 BinTableHDU     17   29R x 4C   [J, J, 40A, 128A]   \n",
      "  5  ASDF          1 ImageHDU         7   (533679032,)   uint8   \n"
     ]
    }
   ],
   "source": [
    "# print some info on input file\n",
    "with fits.open(input_file) as hdulist:\n",
    "        \n",
    "    if hdulist[0].header['ORIGIN'] == 'STScI':\n",
    "        # specific information on instrument/exposure\n",
    "        identifier = hdulist[0].header['OBS_ID']\n",
    "        detector = hdulist[0].header['EXP_TYPE']\n",
    "        im_filter = hdulist[0].header['FILTER']\n",
    "        nInts = hdulist[0].header['NINTS']\n",
    "        nGroups = hdulist[0].header['NGROUPS']\n",
    "        readPatt = hdulist[0].header['READPATT']\n",
    "        expTime = hdulist[0].header['EFFEXPTM']\n",
    "        subArr = hdulist[0].header['SUBARRAY']\n",
    "        channel = hdulist[0].header['CHANNEL']\n",
    "        band = hdulist[0].header['BAND']\n",
    "        print \"ID\\t\\t\\t Detector\\t Filter\\t subAr\\t nInts\\t nGrps\\t rdPatt\\t ExpTime (s)\"\n",
    "        print \"--------------------------------------------------------------------------------------------------\"\n",
    "        print \"%s\\t %s\\t %s\\t %s\\t %d\\t %d\\t %s\\t %0.1f\" % (identifier,detector,im_filter,subArr,nInts,nGroups,readPatt,expTime)\n",
    "        print \"\\n\\n\"\n",
    "            \n",
    "    else:\n",
    "        # specific information on instrument/exposure\n",
    "        detector = hdulist[0].header['EXP_TYPE']\n",
    "        im_filter = hdulist[0].header['FILTER']\n",
    "        nInts = hdulist[0].header['NINTS']\n",
    "        nGroups = hdulist[0].header['NGROUPS']\n",
    "        readPatt = hdulist[0].header['READPATT']\n",
    "        expTime = hdulist[0].header['EFFEXPTM']\n",
    "        subArr = hdulist[0].header['SUBARRAY']\n",
    "        print \"ID\\t Type\\t\\t\\t Filter\\t subAr\\t nInts\\t nGrps\\t rdPatt\\t ExpTime (s)\"\n",
    "        print \"--------------------------------------------------------------------------------------------------\"\n",
    "        print \"MIRISim\\t %s\\t %s\\t %s\\t %d\\t %d\\t %s\\t %0.1f\" % (detector,im_filter,subArr, nInts,nGroups,readPatt,expTime)\n",
    "        print \"\\n\\n\"\n",
    "\n",
    "    # fits extension table\n",
    "    hdulist.info()"
   ]
  },
  {
   "cell_type": "markdown",
   "metadata": {},
   "source": [
    "#### show the last frame of the first integration for each file"
   ]
  },
  {
   "cell_type": "code",
   "execution_count": 4,
   "metadata": {},
   "outputs": [
    {
     "data": {
      "image/png": "[encoded data removed]",
      "text/plain": [
       "<matplotlib.figure.Figure at 0x10e4eca90>"
      ]
     },
     "metadata": {},
     "output_type": "display_data"
    }
   ],
   "source": [
    "fig, axs = plt.subplots(1, 1, figsize=(6, 6))\n",
    "\n",
    "with datamodels.open(input_file) as in_dm:\n",
    "    axs.imshow(in_dm.data[0,-1,:,:], cmap='jet', interpolation='nearest', origin='lower', norm=LogNorm(vmin=1e4,vmax=5e4))\n",
    "    axs.set_facecolor('black')\n",
    "\n",
    "plt.tight_layout()\n",
    "plt.show()"
   ]
  },
  {
   "cell_type": "markdown",
   "metadata": {},
   "source": [
    "### Level 2A pipeline (ramps-to-slopes)"
   ]
  },
  {
   "cell_type": "markdown",
   "metadata": {},
   "source": [
    "#### import the level 2A pipeline class and print description"
   ]
  },
  {
   "cell_type": "code",
   "execution_count": null,
   "metadata": {
    "scrolled": false
   },
   "outputs": [
    {
     "name": "stdout",
     "output_type": "stream",
     "text": [
      "\n",
      "\n",
      "    SloperPipeline: Apply all calibration steps to raw JWST\n",
      "    ramps to produce a 2-D slope product. Included steps are:\n",
      "    group_scale, dq_init, saturation, ipc, superbias, refpix, rscd,\n",
      "    lastframe, linearity, dark_current, persistence, jump detection,\n",
      "    and ramp_fit.\n",
      "\n",
      "    \n"
     ]
    }
   ],
   "source": [
    "from jwst.pipeline import SloperPipeline\n",
    "print SloperPipeline.__doc__"
   ]
  },
  {
   "cell_type": "markdown",
   "metadata": {},
   "source": [
    "For MIRI, the steps in order are: dq_init, saturation, linearity, RSCD, lastframe, dark_current, refpix, jump, ramp_fitting\n"
   ]
  },
  {
   "cell_type": "markdown",
   "metadata": {},
   "source": [
    "#### run pipeline\n",
    "We pass the level 1B files (demo data). The output level 2A files will be saved in the output_dir as '*_rate.fits'\n",
    "\n",
    "NOTE: As dark current was switched off in the MIRISim simulations that produced the demo data, we will skip the dark_current step in the call to the SloperPipeline"
   ]
  },
  {
   "cell_type": "code",
   "execution_count": null,
   "metadata": {
    "scrolled": true
   },
   "outputs": [
    {
     "name": "stderr",
     "output_type": "stream",
     "text": [
      "2017-08-31 12:24:54,169 - stpipe.SloperPipeline - INFO - SloperPipeline instance created.\n",
      "2017-08-31 12:24:54,171 - stpipe.SloperPipeline.group_scale - INFO - GroupScaleStep instance created.\n",
      "2017-08-31 12:24:54,173 - stpipe.SloperPipeline.saturation - INFO - SaturationStep instance created.\n",
      "2017-08-31 12:24:54,175 - stpipe.SloperPipeline.rscd - INFO - RSCD_Step instance created.\n",
      "2017-08-31 12:24:54,178 - stpipe.SloperPipeline.ipc - INFO - IPCStep instance created.\n",
      "2017-08-31 12:24:54,180 - stpipe.SloperPipeline.ramp_fit - INFO - RampFitStep instance created.\n",
      "2017-08-31 12:24:54,182 - stpipe.SloperPipeline.linearity - INFO - LinearityStep instance created.\n",
      "2017-08-31 12:24:54,183 - stpipe.SloperPipeline.jump - INFO - JumpStep instance created.\n",
      "2017-08-31 12:24:54,185 - stpipe.SloperPipeline.refpix - INFO - RefPixStep instance created.\n",
      "2017-08-31 12:24:54,187 - stpipe.SloperPipeline.lastframe - INFO - LastFrameStep instance created.\n",
      "2017-08-31 12:24:54,189 - stpipe.SloperPipeline.dq_init - INFO - DQInitStep instance created.\n",
      "2017-08-31 12:24:54,191 - stpipe.SloperPipeline.dark_current - INFO - DarkCurrentStep instance created.\n",
      "2017-08-31 12:24:54,194 - stpipe.SloperPipeline.persistence - INFO - PersistenceStep instance created.\n",
      "2017-08-31 12:24:54,196 - stpipe.SloperPipeline.superbias - INFO - SuperBiasStep instance created.\n",
      "2017-08-31 12:24:54,255 - stpipe.SloperPipeline - INFO - Step SloperPipeline running with args ('LRS-SLIT_demo_data/bkg_MIRIMAGE_P750Lexp1.fits',).\n",
      "2017-08-31 12:24:54,257 - stpipe.SloperPipeline - INFO - Starting calwebb_sloper ...\n",
      "2017-08-31 12:24:55,660 - stpipe.SloperPipeline.group_scale - INFO - Step group_scale running with args (<jwst.datamodels.miri_ramp.MIRIRampModel object at 0x19aada5d0>,).\n",
      "2017-08-31 12:24:55,796 - stpipe.SloperPipeline.group_scale - WARNING - NFRAMES=1 is a power of 2\n",
      "2017-08-31 12:24:55,797 - stpipe.SloperPipeline.group_scale - WARNING - Step will be skipped\n",
      "2017-08-31 12:24:55,805 - stpipe.SloperPipeline.group_scale - INFO - Step group_scale done\n",
      "2017-08-31 12:25:01,099 - stpipe.SloperPipeline.dq_init - INFO - Prefetch for MASK reference file is '/Users/patrickkavanagh/crds_mirror/references/jwst/miri/jwst_miri_mask_0019.fits'.\n",
      "2017-08-31 12:25:01,164 - stpipe.SloperPipeline.dq_init - INFO - Step dq_init running with args (<jwst.datamodels.miri_ramp.MIRIRampModel object at 0x19e9c0a10>,).\n",
      "2017-08-31 12:25:01,644 - stpipe.SloperPipeline.dq_init - INFO - Using MASK reference file /Users/patrickkavanagh/crds_mirror/references/jwst/miri/jwst_miri_mask_0019.fits\n",
      "2017-08-31 12:25:03,226 - stpipe.SloperPipeline.dq_init - INFO - Step dq_init done\n",
      "2017-08-31 12:25:03,985 - stpipe.SloperPipeline.saturation - INFO - Prefetch for SATURATION reference file is '/Users/patrickkavanagh/crds_mirror/references/jwst/miri/jwst_miri_saturation_0019.fits'.\n",
      "2017-08-31 12:25:04,039 - stpipe.SloperPipeline.saturation - INFO - Step saturation running with args (<jwst.datamodels.miri_ramp.MIRIRampModel object at 0x19eb4a490>,).\n",
      "2017-08-31 12:25:04,557 - stpipe.SloperPipeline.saturation - INFO - Using SATURATION reference file /Users/patrickkavanagh/crds_mirror/references/jwst/miri/jwst_miri_saturation_0019.fits\n",
      "2017-08-31 12:25:06,467 - stpipe.SloperPipeline.saturation - INFO - Step saturation done\n",
      "2017-08-31 12:25:07,189 - stpipe.SloperPipeline.ipc - INFO - Prefetch for IPC reference file is '/Users/patrickkavanagh/crds_mirror/references/jwst/miri/jwst_miri_ipc_0009.fits'.\n",
      "2017-08-31 12:25:07,264 - stpipe.SloperPipeline.ipc - INFO - Step ipc running with args (<jwst.datamodels.miri_ramp.MIRIRampModel object at 0x19e996e90>,).\n",
      "2017-08-31 12:25:07,815 - stpipe.SloperPipeline.ipc - INFO - Using IPC reference file /Users/patrickkavanagh/crds_mirror/references/jwst/miri/jwst_miri_ipc_0009.fits\n",
      "2017-08-31 12:25:12,618 - stpipe.SloperPipeline.ipc - INFO - Step ipc done\n",
      "2017-08-31 12:25:13,407 - stpipe.SloperPipeline.linearity - INFO - Prefetch for LINEARITY reference file is '/Users/patrickkavanagh/crds_mirror/references/jwst/miri/jwst_miri_linearity_0024.fits'.\n",
      "2017-08-31 12:25:13,503 - stpipe.SloperPipeline.linearity - INFO - Step linearity running with args (<jwst.datamodels.miri_ramp.MIRIRampModel object at 0x11b01d550>,).\n",
      "2017-08-31 12:25:14,051 - stpipe.SloperPipeline.linearity - INFO - Using Linearity reference file /Users/patrickkavanagh/crds_mirror/references/jwst/miri/jwst_miri_linearity_0024.fits\n",
      "2017-08-31 12:25:17,224 - stpipe.SloperPipeline.linearity - INFO - Step linearity done\n",
      "2017-08-31 12:25:17,984 - stpipe.SloperPipeline.rscd - INFO - Prefetch for RSCD reference file is '/Users/patrickkavanagh/crds_mirror/references/jwst/miri/jwst_miri_rscd_0004.fits'.\n",
      "2017-08-31 12:25:18,061 - stpipe.SloperPipeline.rscd - INFO - Step rscd running with args (<jwst.datamodels.miri_ramp.MIRIRampModel object at 0x11b072690>,).\n",
      "2017-08-31 12:25:18,598 - stpipe.SloperPipeline.rscd - INFO - Using RSCD reference file /Users/patrickkavanagh/crds_mirror/references/jwst/miri/jwst_miri_rscd_0004.fits\n",
      "2017-08-31 12:25:58,703 - stpipe.SloperPipeline.rscd - INFO - Step rscd done\n",
      "2017-08-31 12:25:58,927 - stpipe.SloperPipeline.lastframe - INFO - Step lastframe running with args (<jwst.datamodels.miri_ramp.MIRIRampModel object at 0x11b133250>,).\n",
      "2017-08-31 12:26:00,081 - stpipe.SloperPipeline.lastframe - INFO - Step lastframe done\n",
      "2017-08-31 12:26:00,371 - stpipe.SloperPipeline.dark_current - INFO - Step dark_current running with args (<jwst.datamodels.miri_ramp.MIRIRampModel object at 0x11b1ed0d0>,).\n",
      "2017-08-31 12:26:00,373 - stpipe.SloperPipeline.dark_current - INFO - Step skipped.\n",
      "2017-08-31 12:26:00,382 - stpipe.SloperPipeline.dark_current - INFO - Step dark_current done\n",
      "2017-08-31 12:26:00,999 - stpipe.SloperPipeline.refpix - INFO - Prefetch for REFPIX reference file is 'N/A'.\n",
      "2017-08-31 12:26:01,050 - stpipe.SloperPipeline.refpix - INFO - Step refpix running with args (<jwst.datamodels.miri_ramp.MIRIRampModel object at 0x11b1ed0d0>,).\n",
      "2017-08-31 12:26:01,195 - stpipe.SloperPipeline.refpix - INFO - use_side_ref_pixels = True\n",
      "2017-08-31 12:26:01,197 - stpipe.SloperPipeline.refpix - INFO - odd_even_columns = True\n",
      "2017-08-31 12:26:01,199 - stpipe.SloperPipeline.refpix - INFO - side_smoothing_length = 11\n",
      "2017-08-31 12:26:01,200 - stpipe.SloperPipeline.refpix - INFO - side_gain = 1.000000\n",
      "2017-08-31 12:26:01,201 - stpipe.SloperPipeline.refpix - INFO - odd_even_rows = True\n",
      "2017-08-31 12:26:01,203 - stpipe.SloperPipeline.refpix - INFO - Subtracting initial read from each integration\n",
      "2017-08-31 12:26:03,001 - stpipe.SloperPipeline.refpix - INFO - Adding initial read back in\n",
      "2017-08-31 12:26:05,219 - stpipe.SloperPipeline.refpix - INFO - Step refpix done\n",
      "2017-08-31 12:26:05,976 - stpipe.SloperPipeline.persistence - INFO - Prefetch for PERSAT reference file is 'N/A'.\n",
      "2017-08-31 12:26:05,978 - stpipe.SloperPipeline.persistence - INFO - Prefetch for TRAPDENSITY reference file is 'N/A'.\n",
      "2017-08-31 12:26:05,979 - stpipe.SloperPipeline.persistence - INFO - Prefetch for TRAPPARS reference file is 'N/A'.\n",
      "2017-08-31 12:26:06,043 - stpipe.SloperPipeline.persistence - INFO - Step persistence running with args (<jwst.datamodels.miri_ramp.MIRIRampModel object at 0x19e996f90>,).\n",
      "2017-08-31 12:26:08,537 - stpipe.SloperPipeline.persistence - WARNING - Missing reference file types:  PERSAT TRAPDENSITY TRAPPARS\n",
      "2017-08-31 12:26:08,548 - stpipe.SloperPipeline.persistence - INFO - Step persistence done\n",
      "2017-08-31 12:26:09,406 - stpipe.SloperPipeline.jump - INFO - Prefetch for GAIN reference file is '/Users/patrickkavanagh/crds_mirror/references/jwst/miri/jwst_miri_gain_0008.fits'.\n",
      "2017-08-31 12:26:09,408 - stpipe.SloperPipeline.jump - INFO - Prefetch for READNOISE reference file is '/Users/patrickkavanagh/crds_mirror/references/jwst/miri/jwst_miri_readnoise_0040.fits'.\n",
      "2017-08-31 12:26:09,494 - stpipe.SloperPipeline.jump - INFO - Step jump running with args (<jwst.datamodels.miri_ramp.MIRIRampModel object at 0x21dc7e550>,).\n",
      "2017-08-31 12:26:09,633 - stpipe.SloperPipeline.jump - INFO - CR rejection threshold = 4 sigma\n",
      "2017-08-31 12:26:10,070 - stpipe.SloperPipeline.jump - INFO - Using GAIN reference file: /Users/patrickkavanagh/crds_mirror/references/jwst/miri/jwst_miri_gain_0008.fits\n"
     ]
    },
    {
     "name": "stderr",
     "output_type": "stream",
     "text": [
      "2017-08-31 12:26:10,453 - stpipe.SloperPipeline.jump - INFO - Using READNOISE reference file: /Users/patrickkavanagh/crds_mirror/references/jwst/miri/jwst_miri_readnoise_0040.fits\n",
      "2017-08-31 12:26:11,774 - stpipe.SloperPipeline.jump - INFO - Executing two-point difference method\n",
      "2017-08-31 12:26:34,674 - stpipe.SloperPipeline.jump - INFO - Step jump done\n",
      "2017-08-31 12:26:35,331 - stpipe.SloperPipeline.ramp_fit - INFO - Prefetch for GAIN reference file is '/Users/patrickkavanagh/crds_mirror/references/jwst/miri/jwst_miri_gain_0008.fits'.\n",
      "2017-08-31 12:26:35,333 - stpipe.SloperPipeline.ramp_fit - INFO - Prefetch for READNOISE reference file is '/Users/patrickkavanagh/crds_mirror/references/jwst/miri/jwst_miri_readnoise_0040.fits'.\n",
      "2017-08-31 12:26:35,398 - stpipe.SloperPipeline.ramp_fit - INFO - Step ramp_fit running with args (<jwst.datamodels.miri_ramp.MIRIRampModel object at 0x21dc7e750>,).\n",
      "2017-08-31 12:26:36,410 - stpipe.SloperPipeline.ramp_fit - INFO - Using READNOISE reference file: /Users/patrickkavanagh/crds_mirror/references/jwst/miri/jwst_miri_readnoise_0040.fits\n",
      "2017-08-31 12:26:36,446 - stpipe.SloperPipeline.ramp_fit - INFO - Using GAIN reference file: /Users/patrickkavanagh/crds_mirror/references/jwst/miri/jwst_miri_gain_0008.fits\n",
      "2017-08-31 12:26:36,476 - stpipe.SloperPipeline.ramp_fit - INFO - Using algorithm = ols\n",
      "2017-08-31 12:26:36,477 - stpipe.SloperPipeline.ramp_fit - INFO - Using weighting = optimal\n",
      "2017-08-31 12:26:36,511 - stpipe.SloperPipeline.ramp_fit - INFO - Effective integration time per group: 2.77504\n",
      "2017-08-31 12:30:03,352 - stpipe.SloperPipeline.ramp_fit - INFO - Number of groups per integration: 50\n",
      "2017-08-31 12:30:03,353 - stpipe.SloperPipeline.ramp_fit - INFO - Number of integrations: 2\n",
      "2017-08-31 12:30:03,540 - stpipe.SloperPipeline.ramp_fit - INFO - Step.save_model LRS-SLIT_demo_data_pipeline/bkg_MIRIMAGE_P750Lexp1_rateints.fits\n",
      "2017-08-31 12:30:03,756 - stpipe.SloperPipeline.ramp_fit - INFO - Step ramp_fit done\n",
      "2017-08-31 12:30:03,758 - stpipe.SloperPipeline - INFO - ... ending calwebb_sloper\n",
      "2017-08-31 12:30:03,766 - stpipe.SloperPipeline - INFO - Saving file LRS-SLIT_demo_data_pipeline/bkg_MIRIMAGE_P750Lexp1_rate.fits\n",
      "2017-08-31 12:30:03,875 - stpipe.SloperPipeline - INFO - Step SloperPipeline done\n",
      "2017-08-31 12:30:03,885 - stpipe.SloperPipeline - INFO - SloperPipeline instance created.\n",
      "2017-08-31 12:30:03,888 - stpipe.SloperPipeline.group_scale - INFO - GroupScaleStep instance created.\n",
      "2017-08-31 12:30:03,890 - stpipe.SloperPipeline.saturation - INFO - SaturationStep instance created.\n",
      "2017-08-31 12:30:03,892 - stpipe.SloperPipeline.rscd - INFO - RSCD_Step instance created.\n",
      "2017-08-31 12:30:03,894 - stpipe.SloperPipeline.ipc - INFO - IPCStep instance created.\n",
      "2017-08-31 12:30:03,896 - stpipe.SloperPipeline.ramp_fit - INFO - RampFitStep instance created.\n",
      "2017-08-31 12:30:03,897 - stpipe.SloperPipeline.linearity - INFO - LinearityStep instance created.\n",
      "2017-08-31 12:30:03,899 - stpipe.SloperPipeline.jump - INFO - JumpStep instance created.\n",
      "2017-08-31 12:30:03,901 - stpipe.SloperPipeline.refpix - INFO - RefPixStep instance created.\n",
      "2017-08-31 12:30:03,903 - stpipe.SloperPipeline.lastframe - INFO - LastFrameStep instance created.\n",
      "2017-08-31 12:30:03,905 - stpipe.SloperPipeline.dq_init - INFO - DQInitStep instance created.\n",
      "2017-08-31 12:30:03,907 - stpipe.SloperPipeline.dark_current - INFO - DarkCurrentStep instance created.\n",
      "2017-08-31 12:30:03,909 - stpipe.SloperPipeline.persistence - INFO - PersistenceStep instance created.\n",
      "2017-08-31 12:30:03,911 - stpipe.SloperPipeline.superbias - INFO - SuperBiasStep instance created.\n",
      "2017-08-31 12:30:04,144 - stpipe.SloperPipeline - INFO - Step SloperPipeline running with args ('LRS-SLIT_demo_data/det_image_1_MIRIMAGE_P750Lexp1.fits',).\n",
      "2017-08-31 12:30:04,146 - stpipe.SloperPipeline - INFO - Starting calwebb_sloper ...\n",
      "2017-08-31 12:30:05,430 - stpipe.SloperPipeline.group_scale - INFO - Step group_scale running with args (<jwst.datamodels.miri_ramp.MIRIRampModel object at 0x11b072290>,).\n",
      "2017-08-31 12:30:05,566 - stpipe.SloperPipeline.group_scale - WARNING - NFRAMES=1 is a power of 2\n",
      "2017-08-31 12:30:05,567 - stpipe.SloperPipeline.group_scale - WARNING - Step will be skipped\n",
      "2017-08-31 12:30:05,574 - stpipe.SloperPipeline.group_scale - INFO - Step group_scale done\n",
      "2017-08-31 12:30:06,098 - stpipe.SloperPipeline.dq_init - INFO - Prefetch for MASK reference file is '/Users/patrickkavanagh/crds_mirror/references/jwst/miri/jwst_miri_mask_0019.fits'.\n",
      "2017-08-31 12:30:06,172 - stpipe.SloperPipeline.dq_init - INFO - Step dq_init running with args (<jwst.datamodels.miri_ramp.MIRIRampModel object at 0x19b251dd0>,).\n",
      "2017-08-31 12:30:06,664 - stpipe.SloperPipeline.dq_init - INFO - Using MASK reference file /Users/patrickkavanagh/crds_mirror/references/jwst/miri/jwst_miri_mask_0019.fits\n",
      "2017-08-31 12:30:07,847 - stpipe.SloperPipeline.dq_init - INFO - Step dq_init done\n",
      "2017-08-31 12:30:08,524 - stpipe.SloperPipeline.saturation - INFO - Prefetch for SATURATION reference file is '/Users/patrickkavanagh/crds_mirror/references/jwst/miri/jwst_miri_saturation_0019.fits'.\n",
      "2017-08-31 12:30:08,597 - stpipe.SloperPipeline.saturation - INFO - Step saturation running with args (<jwst.datamodels.miri_ramp.MIRIRampModel object at 0x21e16ad10>,).\n",
      "2017-08-31 12:30:09,082 - stpipe.SloperPipeline.saturation - INFO - Using SATURATION reference file /Users/patrickkavanagh/crds_mirror/references/jwst/miri/jwst_miri_saturation_0019.fits\n",
      "2017-08-31 12:30:10,632 - stpipe.SloperPipeline.saturation - INFO - Step saturation done\n",
      "2017-08-31 12:30:11,327 - stpipe.SloperPipeline.ipc - INFO - Prefetch for IPC reference file is '/Users/patrickkavanagh/crds_mirror/references/jwst/miri/jwst_miri_ipc_0009.fits'.\n",
      "2017-08-31 12:30:11,398 - stpipe.SloperPipeline.ipc - INFO - Step ipc running with args (<jwst.datamodels.miri_ramp.MIRIRampModel object at 0x19b264f10>,).\n",
      "2017-08-31 12:30:11,892 - stpipe.SloperPipeline.ipc - INFO - Using IPC reference file /Users/patrickkavanagh/crds_mirror/references/jwst/miri/jwst_miri_ipc_0009.fits\n",
      "2017-08-31 12:30:15,860 - stpipe.SloperPipeline.ipc - INFO - Step ipc done\n",
      "2017-08-31 12:30:16,549 - stpipe.SloperPipeline.linearity - INFO - Prefetch for LINEARITY reference file is '/Users/patrickkavanagh/crds_mirror/references/jwst/miri/jwst_miri_linearity_0024.fits'.\n",
      "2017-08-31 12:30:16,619 - stpipe.SloperPipeline.linearity - INFO - Step linearity running with args (<jwst.datamodels.miri_ramp.MIRIRampModel object at 0x19b054250>,).\n",
      "2017-08-31 12:30:17,102 - stpipe.SloperPipeline.linearity - INFO - Using Linearity reference file /Users/patrickkavanagh/crds_mirror/references/jwst/miri/jwst_miri_linearity_0024.fits\n",
      "2017-08-31 12:30:19,602 - stpipe.SloperPipeline.linearity - INFO - Step linearity done\n",
      "2017-08-31 12:30:20,314 - stpipe.SloperPipeline.rscd - INFO - Prefetch for RSCD reference file is '/Users/patrickkavanagh/crds_mirror/references/jwst/miri/jwst_miri_rscd_0004.fits'.\n",
      "2017-08-31 12:30:20,383 - stpipe.SloperPipeline.rscd - INFO - Step rscd running with args (<jwst.datamodels.miri_ramp.MIRIRampModel object at 0x19b065b90>,).\n",
      "2017-08-31 12:30:20,874 - stpipe.SloperPipeline.rscd - INFO - Using RSCD reference file /Users/patrickkavanagh/crds_mirror/references/jwst/miri/jwst_miri_rscd_0004.fits\n",
      "2017-08-31 12:30:55,931 - stpipe.SloperPipeline.rscd - INFO - Step rscd done\n",
      "2017-08-31 12:30:56,134 - stpipe.SloperPipeline.lastframe - INFO - Step lastframe running with args (<jwst.datamodels.miri_ramp.MIRIRampModel object at 0x11b07af10>,).\n",
      "2017-08-31 12:30:57,158 - stpipe.SloperPipeline.lastframe - INFO - Step lastframe done\n",
      "2017-08-31 12:30:57,361 - stpipe.SloperPipeline.dark_current - INFO - Step dark_current running with args (<jwst.datamodels.miri_ramp.MIRIRampModel object at 0x11af09d50>,).\n",
      "2017-08-31 12:30:57,363 - stpipe.SloperPipeline.dark_current - INFO - Step skipped.\n",
      "2017-08-31 12:30:57,371 - stpipe.SloperPipeline.dark_current - INFO - Step dark_current done\n",
      "2017-08-31 12:30:57,907 - stpipe.SloperPipeline.refpix - INFO - Prefetch for REFPIX reference file is 'N/A'.\n",
      "2017-08-31 12:30:57,977 - stpipe.SloperPipeline.refpix - INFO - Step refpix running with args (<jwst.datamodels.miri_ramp.MIRIRampModel object at 0x11af09d50>,).\n"
     ]
    },
    {
     "name": "stderr",
     "output_type": "stream",
     "text": [
      "2017-08-31 12:30:58,116 - stpipe.SloperPipeline.refpix - INFO - use_side_ref_pixels = True\n",
      "2017-08-31 12:30:58,117 - stpipe.SloperPipeline.refpix - INFO - odd_even_columns = True\n",
      "2017-08-31 12:30:58,118 - stpipe.SloperPipeline.refpix - INFO - side_smoothing_length = 11\n",
      "2017-08-31 12:30:58,120 - stpipe.SloperPipeline.refpix - INFO - side_gain = 1.000000\n",
      "2017-08-31 12:30:58,121 - stpipe.SloperPipeline.refpix - INFO - odd_even_rows = True\n",
      "2017-08-31 12:30:58,122 - stpipe.SloperPipeline.refpix - INFO - Subtracting initial read from each integration\n",
      "2017-08-31 12:30:59,580 - stpipe.SloperPipeline.refpix - INFO - Adding initial read back in\n",
      "2017-08-31 12:31:01,607 - stpipe.SloperPipeline.refpix - INFO - Step refpix done\n",
      "2017-08-31 12:31:02,319 - stpipe.SloperPipeline.persistence - INFO - Prefetch for PERSAT reference file is 'N/A'.\n",
      "2017-08-31 12:31:02,320 - stpipe.SloperPipeline.persistence - INFO - Prefetch for TRAPDENSITY reference file is 'N/A'.\n",
      "2017-08-31 12:31:02,321 - stpipe.SloperPipeline.persistence - INFO - Prefetch for TRAPPARS reference file is 'N/A'.\n",
      "2017-08-31 12:31:02,393 - stpipe.SloperPipeline.persistence - INFO - Step persistence running with args (<jwst.datamodels.miri_ramp.MIRIRampModel object at 0x11b0725d0>,).\n",
      "2017-08-31 12:31:04,529 - stpipe.SloperPipeline.persistence - WARNING - Missing reference file types:  PERSAT TRAPDENSITY TRAPPARS\n",
      "2017-08-31 12:31:04,540 - stpipe.SloperPipeline.persistence - INFO - Step persistence done\n",
      "2017-08-31 12:31:05,269 - stpipe.SloperPipeline.jump - INFO - Prefetch for GAIN reference file is '/Users/patrickkavanagh/crds_mirror/references/jwst/miri/jwst_miri_gain_0008.fits'.\n",
      "2017-08-31 12:31:05,270 - stpipe.SloperPipeline.jump - INFO - Prefetch for READNOISE reference file is '/Users/patrickkavanagh/crds_mirror/references/jwst/miri/jwst_miri_readnoise_0040.fits'.\n",
      "2017-08-31 12:31:05,343 - stpipe.SloperPipeline.jump - INFO - Step jump running with args (<jwst.datamodels.miri_ramp.MIRIRampModel object at 0x11b072d10>,).\n",
      "2017-08-31 12:31:05,477 - stpipe.SloperPipeline.jump - INFO - CR rejection threshold = 4 sigma\n",
      "2017-08-31 12:31:05,842 - stpipe.SloperPipeline.jump - INFO - Using GAIN reference file: /Users/patrickkavanagh/crds_mirror/references/jwst/miri/jwst_miri_gain_0008.fits\n",
      "2017-08-31 12:31:06,220 - stpipe.SloperPipeline.jump - INFO - Using READNOISE reference file: /Users/patrickkavanagh/crds_mirror/references/jwst/miri/jwst_miri_readnoise_0040.fits\n",
      "2017-08-31 12:31:07,494 - stpipe.SloperPipeline.jump - INFO - Executing two-point difference method\n",
      "2017-08-31 12:31:28,551 - stpipe.SloperPipeline.jump - INFO - Step jump done\n",
      "2017-08-31 12:31:29,225 - stpipe.SloperPipeline.ramp_fit - INFO - Prefetch for GAIN reference file is '/Users/patrickkavanagh/crds_mirror/references/jwst/miri/jwst_miri_gain_0008.fits'.\n",
      "2017-08-31 12:31:29,226 - stpipe.SloperPipeline.ramp_fit - INFO - Prefetch for READNOISE reference file is '/Users/patrickkavanagh/crds_mirror/references/jwst/miri/jwst_miri_readnoise_0040.fits'.\n",
      "2017-08-31 12:31:29,296 - stpipe.SloperPipeline.ramp_fit - INFO - Step ramp_fit running with args (<jwst.datamodels.miri_ramp.MIRIRampModel object at 0x11b084590>,).\n",
      "2017-08-31 12:31:30,147 - stpipe.SloperPipeline.ramp_fit - INFO - Using READNOISE reference file: /Users/patrickkavanagh/crds_mirror/references/jwst/miri/jwst_miri_readnoise_0040.fits\n",
      "2017-08-31 12:31:30,181 - stpipe.SloperPipeline.ramp_fit - INFO - Using GAIN reference file: /Users/patrickkavanagh/crds_mirror/references/jwst/miri/jwst_miri_gain_0008.fits\n",
      "2017-08-31 12:31:30,212 - stpipe.SloperPipeline.ramp_fit - INFO - Using algorithm = ols\n",
      "2017-08-31 12:31:30,213 - stpipe.SloperPipeline.ramp_fit - INFO - Using weighting = optimal\n",
      "2017-08-31 12:31:30,239 - stpipe.SloperPipeline.ramp_fit - INFO - Effective integration time per group: 2.77504\n",
      "2017-08-31 12:33:19,130 - stpipe.SloperPipeline.ramp_fit - WARNING - /Users/patrickkavanagh/anaconda/envs/jwstb7.1rc2/lib/python2.7/site-packages/jwst-0.7.8rc2-py2.7-macosx-10.7-x86_64.egg/jwst/ramp_fitting/ramp_fit.py:1991: RuntimeWarning: invalid value encountered in sqrt\n",
      "  new_var = np.sqrt(poiss_2d + rn_2d**2.)\n",
      "\n"
     ]
    }
   ],
   "source": [
    "for input_file in all_input_files:\n",
    "    dm_2A = SloperPipeline.call(input_file, save_results=True, output_dir=output_dir, steps={'dark_current':{'skip':True}})\n"
   ]
  },
  {
   "cell_type": "markdown",
   "metadata": {},
   "source": [
    "#### Quick check of the pipeline steps applied in the output:"
   ]
  },
  {
   "cell_type": "code",
   "execution_count": null,
   "metadata": {},
   "outputs": [],
   "source": [
    "level2A_files = glob.glob(os.path.join(output_dir,'*_rate.fits'))\n",
    "\n",
    "with datamodels.open(level2A_files[0]) as dm:\n",
    "    # check the calibration step information\n",
    "    print'Check step information status:'\n",
    "    print 'dq_init: %s' % dm.meta.cal_step.dq_init\n",
    "    print 'saturation: %s' % dm.meta.cal_step.saturation\n",
    "    print 'linearity: %s' % dm.meta.cal_step.linearity\n",
    "    print 'rscd: %s' % dm.meta.cal_step.rscd\n",
    "    print 'lastframe: %s' % dm.meta.cal_step.lastframe\n",
    "    print 'dark_current: %s' % dm.meta.cal_step.dark_sub\n",
    "    print 'refpix: %s' % dm.meta.cal_step.refpix\n",
    "    print 'jump: %s' % dm.meta.cal_step.jump\n",
    "    print 'ramp_fit: %s' % dm.meta.cal_step.ramp_fit"
   ]
  },
  {
   "cell_type": "markdown",
   "metadata": {},
   "source": [
    "### Level 2B pipeline"
   ]
  },
  {
   "cell_type": "markdown",
   "metadata": {},
   "source": [
    "#### import the level 2B pipeline class and print description"
   ]
  },
  {
   "cell_type": "code",
   "execution_count": null,
   "metadata": {},
   "outputs": [],
   "source": [
    "from jwst.pipeline import Spec2Pipeline\n",
    "print Spec2Pipeline.__doc__"
   ]
  },
  {
   "cell_type": "markdown",
   "metadata": {},
   "source": [
    "For the LRS, the level 2B steps in order are: assign_wcs, bkg_subtract, flat_field, srctype, photom, cube_build, extract_1d\n",
    "\n",
    "The bkg_subtract subtract step requires an association file defining the source and background exposures. At the moment, there is no easy way to create one, so we define it manually in a cell and write to the association json file. "
   ]
  },
  {
   "cell_type": "code",
   "execution_count": null,
   "metadata": {
    "collapsed": true
   },
   "outputs": [],
   "source": [
    "import json\n",
    "\n",
    "data = {\n",
    "    \"asn_rule\": \"Asn_Lv2Spec\",\n",
    "    \"asn_pool\": \"dummy_pool\",\n",
    "    \"program\": \"00000\",\n",
    "    \"asn_type\": \"spec2\",\n",
    "    \"products\": [\n",
    "        {\n",
    "            \"name\": \"lrs_bgsub_1\",\n",
    "            \"members\": [\n",
    "                {\n",
    "                    \"expname\": \"LRS-SLIT_demo_data_test/det_image_1_MIRIMAGE_P750Lexp1_rate.fits\",\n",
    "                    \"exptype\": \"science\"\n",
    "                },\n",
    "                {\n",
    "                    \"expname\": \"LRS-SLIT_demo_data_test/bkg_MIRIMAGE_P750Lexp1_rate.fits\",\n",
    "                    \"exptype\": \"background\"\n",
    "                }\n",
    "            ]\n",
    "        }\n",
    "    ]\n",
    "}\n",
    "\n",
    "with open('LRS_lvl2_asn.json', 'w') as outfile:  \n",
    "    json.dump(data, outfile)"
   ]
  },
  {
   "cell_type": "markdown",
   "metadata": {},
   "source": [
    "#### run pipeline\n",
    "We pass the level 2 assocation file. The output is contained in the dm_2B data model and saved to a fits file ending in '_cal.fits'."
   ]
  },
  {
   "cell_type": "code",
   "execution_count": null,
   "metadata": {
    "scrolled": true
   },
   "outputs": [],
   "source": [
    "Spec2Pipeline.call('LRS_lvl2_asn.json', save_results=True, output_dir=output_dir, steps={'extract_1d':{'save_results':True}})\n"
   ]
  },
  {
   "cell_type": "markdown",
   "metadata": {},
   "source": [
    "### check of output\n",
    "\n",
    "The level 2B pipeline for the LRS produces a background subtracted level 2B (_cal.fits).\n",
    "\n",
    "We can have a look at the steps applied to this file in the level 2B pipeline"
   ]
  },
  {
   "cell_type": "code",
   "execution_count": null,
   "metadata": {},
   "outputs": [],
   "source": [
    "# set the output file names\n",
    "level2B_files = glob.glob(os.path.join(output_dir,'*_cal.fits'))\n",
    "\n",
    "with datamodels.open(level2B_files[0]) as dm:\n",
    "    # check the calibration step information\n",
    "    print'Check step information status:'\n",
    "    print 'assign_wcs: %s' % dm.meta.cal_step.assign_wcs\n",
    "    print 'bkg_subtract: %s' % dm.meta.cal_step.back_sub\n",
    "    print 'flat_field: %s' % dm.meta.cal_step.flat_field\n",
    "    print 'srctype: %s' % dm.meta.cal_step.srctype\n",
    "    print 'photom: %s' % dm.meta.cal_step.photom\n"
   ]
  },
  {
   "cell_type": "markdown",
   "metadata": {},
   "source": [
    "#### plot the spectrum"
   ]
  },
  {
   "cell_type": "code",
   "execution_count": null,
   "metadata": {},
   "outputs": [],
   "source": [
    "spec_file = glob.glob(os.path.join(output_dir,\"*x1d.fits\"))[0]\n",
    "dm = datamodels.open(spec_file)\n",
    "\n",
    "fig, axs = plt.subplots(1, 1, figsize=(10, 7))\n",
    "\n",
    "# plot the spectrum \n",
    "axs.plot(dm.spec[0].spec_table['WAVELENGTH'][1:-1], dm.spec[0].spec_table['FLUX'][1:-1], c='b', marker='.', \n",
    "         markersize=0, linestyle='-', linewidth=2)\n",
    "axs.set_ylabel(r'Flux ($\\mu$Jy)')\n",
    "axs.set_xlabel(r'Wavelength ($\\mu$m)')\n",
    "#axs.set_xlim(4.9,5.7)\n",
    "#axs[0].set_ylim(0,6000)\n",
    "\n",
    "\n",
    "plt.show()"
   ]
  },
  {
   "cell_type": "code",
   "execution_count": null,
   "metadata": {
    "collapsed": true
   },
   "outputs": [],
   "source": []
  }
 ],
 "metadata": {
  "anaconda-cloud": {},
  "kernelspec": {
   "display_name": "Python 2",
   "language": "python",
   "name": "python2"
  },
  "language_info": {
   "codemirror_mode": {
    "name": "ipython",
    "version": 2
   },
   "file_extension": ".py",
   "mimetype": "text/x-python",
   "name": "python",
   "nbconvert_exporter": "python",
   "pygments_lexer": "ipython2",
   "version": "2.7.13"
  }
 },
 "nbformat": 4,
 "nbformat_minor": 1
}
