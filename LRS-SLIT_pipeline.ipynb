{
 "cells": [
  {
   "cell_type": "markdown",
   "metadata": {},
   "source": [
    "# Run level 2A and 2B pipelines on LRS-SLIT data using jwst.pipeline classes"
   ]
  },
  {
   "cell_type": "markdown",
   "metadata": {},
   "source": [
    "### by Patrick Kavanagh (DIAS, Ireland) August 20th 2017"
   ]
  },
  {
   "cell_type": "markdown",
   "metadata": {},
   "source": [
    "This notebook demonstrates the execution of the level 2A and 2B pipelines for LRS-SLIT data in Python using the jwst.pipeline classes.\n",
    "\n",
    "For a description of the pipeline classes see:\n",
    "\n",
    "http://ssb.stsci.edu/doc/jwst_dev/jwst/pipeline/index.html\n",
    "\n",
    "The files used in this notebook is an undithered MIRISim simulation of a point source with a blackbody spectrum plus emission lines. A dedicated background observation is also used for subtraction at the level 2 stage."
   ]
  },
  {
   "cell_type": "markdown",
   "metadata": {},
   "source": [
    "#### Imports"
   ]
  },
  {
   "cell_type": "code",
   "execution_count": 1,
   "metadata": {
    "collapsed": true
   },
   "outputs": [],
   "source": [
    "import os, glob, shutil\n",
    "\n",
    "import numpy as np\n",
    "from astropy.io import fits\n",
    "from matplotlib.colors import LogNorm\n",
    "import matplotlib.pyplot as plt\n",
    "from subprocess import call\n",
    "\n",
    "from jwst import datamodels\n",
    "\n",
    "%matplotlib inline\n",
    "# %matplotlib notebook # if you want interactive plots"
   ]
  },
  {
   "cell_type": "markdown",
   "metadata": {},
   "source": [
    "#### Set input file:"
   ]
  },
  {
   "cell_type": "code",
   "execution_count": 2,
   "metadata": {
    "collapsed": true
   },
   "outputs": [],
   "source": [
    "# set input filenames and directory. In this example, the files are located in a folder called 'LRS-SLIT_demo_data'\n",
    "input_dir = 'LRS-SLIT_demo_data'\n",
    "input_file = glob.glob(os.path.join(input_dir,'det*.fits'))[0]\n",
    "\n",
    "# load all files including the background observation\n",
    "all_input_files = glob.glob(os.path.join(input_dir,'*.fits'))\n",
    "\n",
    "# set the output directory name\n",
    "output_dir = input_dir + '_test'\n",
    "\n",
    "# if the output directory exists, delete it\n",
    "if os.path.exists(output_dir): shutil.rmtree(output_dir)\n",
    "\n",
    "# create the output directory\n",
    "os.mkdir(output_dir)"
   ]
  },
  {
   "cell_type": "markdown",
   "metadata": {},
   "source": [
    "#### print some information about the input files. We will just look at the first file"
   ]
  },
  {
   "cell_type": "code",
   "execution_count": 3,
   "metadata": {},
   "outputs": [
    {
     "name": "stdout",
     "output_type": "stream",
     "text": [
      "ID\t Type\t\t\t Filter\t subAr\t nInts\t nGrps\t rdPatt\t ExpTime (s)\n",
      "--------------------------------------------------------------------------------------------------\n",
      "MIRISim\t MIR_LRS-FIXEDSLIT\t P750L\t FULL\t 2\t 50\t FAST\t 277.5\n",
      "\n",
      "\n",
      "\n",
      "Filename: LRS-SLIT_demo_data/det_image_1_MIRIMAGE_P750Lexp1.fits\n",
      "No.    Name      Ver    Type      Cards   Dimensions   Format\n",
      "  0  PRIMARY       1 PrimaryHDU     147   ()      \n",
      "  1  SCI           1 ImageHDU        14   (1032, 1024, 50, 2)   float32   \n",
      "  2  REFOUT        1 ImageHDU        14   (258, 1024, 50, 2)   float32   \n",
      "  3  PIXELDQ       1 ImageHDU        10   (1032, 1024)   int32 (rescales to uint32)   \n",
      "  4  PIXELDQ_DEF    1 BinTableHDU     17   29R x 4C   [J, J, 40A, 128A]   \n",
      "  5  ASDF          1 ImageHDU         7   (533679032,)   uint8   \n"
     ]
    }
   ],
   "source": [
    "# print some info on input file\n",
    "with fits.open(input_file) as hdulist:\n",
    "        \n",
    "    if hdulist[0].header['ORIGIN'] == 'STScI':\n",
    "        # specific information on instrument/exposure\n",
    "        identifier = hdulist[0].header['OBS_ID']\n",
    "        detector = hdulist[0].header['EXP_TYPE']\n",
    "        im_filter = hdulist[0].header['FILTER']\n",
    "        nInts = hdulist[0].header['NINTS']\n",
    "        nGroups = hdulist[0].header['NGROUPS']\n",
    "        readPatt = hdulist[0].header['READPATT']\n",
    "        expTime = hdulist[0].header['EFFEXPTM']\n",
    "        subArr = hdulist[0].header['SUBARRAY']\n",
    "        channel = hdulist[0].header['CHANNEL']\n",
    "        band = hdulist[0].header['BAND']\n",
    "        print \"ID\\t\\t\\t Detector\\t Filter\\t subAr\\t nInts\\t nGrps\\t rdPatt\\t ExpTime (s)\"\n",
    "        print \"--------------------------------------------------------------------------------------------------\"\n",
    "        print \"%s\\t %s\\t %s\\t %s\\t %d\\t %d\\t %s\\t %0.1f\" % (identifier,detector,im_filter,subArr,nInts,nGroups,readPatt,expTime)\n",
    "        print \"\\n\\n\"\n",
    "            \n",
    "    else:\n",
    "        # specific information on instrument/exposure\n",
    "        detector = hdulist[0].header['EXP_TYPE']\n",
    "        im_filter = hdulist[0].header['FILTER']\n",
    "        nInts = hdulist[0].header['NINTS']\n",
    "        nGroups = hdulist[0].header['NGROUPS']\n",
    "        readPatt = hdulist[0].header['READPATT']\n",
    "        expTime = hdulist[0].header['EFFEXPTM']\n",
    "        subArr = hdulist[0].header['SUBARRAY']\n",
    "        print \"ID\\t Type\\t\\t\\t Filter\\t subAr\\t nInts\\t nGrps\\t rdPatt\\t ExpTime (s)\"\n",
    "        print \"--------------------------------------------------------------------------------------------------\"\n",
    "        print \"MIRISim\\t %s\\t %s\\t %s\\t %d\\t %d\\t %s\\t %0.1f\" % (detector,im_filter,subArr, nInts,nGroups,readPatt,expTime)\n",
    "        print \"\\n\\n\"\n",
    "\n",
    "    # fits extension table\n",
    "    hdulist.info()"
   ]
  },
  {
   "cell_type": "markdown",
   "metadata": {},
   "source": [
    "#### show the last frame of the first integration for each file"
   ]
  },
  {
   "cell_type": "code",
   "execution_count": 4,
   "metadata": {},
   "outputs": [
    {
     "data": {
      "image/png": "[encoded data removed]",
      "text/plain": [
       "<matplotlib.figure.Figure at 0x119d52350>"
      ]
     },
     "metadata": {},
     "output_type": "display_data"
    }
   ],
   "source": [
    "fig, axs = plt.subplots(1, 1, figsize=(6, 6))\n",
    "\n",
    "with datamodels.open(input_file) as in_dm:\n",
    "    axs.imshow(in_dm.data[0,-1,:,:], cmap='jet', interpolation='nearest', origin='lower', norm=LogNorm(vmin=1e4,vmax=5e4))\n",
    "    axs.set_facecolor('black')\n",
    "\n",
    "plt.tight_layout()\n",
    "plt.show()"
   ]
  },
  {
   "cell_type": "markdown",
   "metadata": {},
   "source": [
    "### Level 2A pipeline (ramps-to-slopes)"
   ]
  },
  {
   "cell_type": "markdown",
   "metadata": {},
   "source": [
    "#### import the level 2A pipeline class and print description"
   ]
  },
  {
   "cell_type": "code",
   "execution_count": 5,
   "metadata": {
    "scrolled": false
   },
   "outputs": [
    {
     "name": "stdout",
     "output_type": "stream",
     "text": [
      "\n",
      "\n",
      "    SloperPipeline: Apply all calibration steps to raw JWST\n",
      "    ramps to produce a 2-D slope product. Included steps are:\n",
      "    group_scale, dq_init, saturation, ipc, superbias, refpix, rscd,\n",
      "    lastframe, linearity, dark_current, persistence, jump detection,\n",
      "    and ramp_fit.\n",
      "\n",
      "    \n"
     ]
    }
   ],
   "source": [
    "from jwst.pipeline import SloperPipeline\n",
    "print SloperPipeline.__doc__"
   ]
  },
  {
   "cell_type": "markdown",
   "metadata": {},
   "source": [
    "For MIRI, the steps in order are: dq_init, saturation, linearity, RSCD, lastframe, dark_current, refpix, jump, ramp_fitting\n"
   ]
  },
  {
   "cell_type": "markdown",
   "metadata": {},
   "source": [
    "#### run pipeline\n",
    "We pass the level 1B files (demo data). The output level 2A files will be saved in the output_dir as '*_rate.fits'\n",
    "\n",
    "NOTE: As dark current was switched off in the MIRISim simulations that produced the demo data, we will skip the dark_current step in the call to the SloperPipeline"
   ]
  },
  {
   "cell_type": "code",
   "execution_count": 6,
   "metadata": {
    "scrolled": true
   },
   "outputs": [
    {
     "name": "stderr",
     "output_type": "stream",
     "text": [
      "2017-08-31 12:00:35,215 - stpipe.SloperPipeline - INFO - SloperPipeline instance created.\n",
      "2017-08-31 12:00:35,217 - stpipe.SloperPipeline.group_scale - INFO - GroupScaleStep instance created.\n",
      "2017-08-31 12:00:35,220 - stpipe.SloperPipeline.saturation - INFO - SaturationStep instance created.\n",
      "2017-08-31 12:00:35,222 - stpipe.SloperPipeline.rscd - INFO - RSCD_Step instance created.\n",
      "2017-08-31 12:00:35,224 - stpipe.SloperPipeline.ipc - INFO - IPCStep instance created.\n",
      "2017-08-31 12:00:35,226 - stpipe.SloperPipeline.ramp_fit - INFO - RampFitStep instance created.\n",
      "2017-08-31 12:00:35,229 - stpipe.SloperPipeline.linearity - INFO - LinearityStep instance created.\n",
      "2017-08-31 12:00:35,231 - stpipe.SloperPipeline.jump - INFO - JumpStep instance created.\n",
      "2017-08-31 12:00:35,234 - stpipe.SloperPipeline.refpix - INFO - RefPixStep instance created.\n",
      "2017-08-31 12:00:35,236 - stpipe.SloperPipeline.lastframe - INFO - LastFrameStep instance created.\n",
      "2017-08-31 12:00:35,239 - stpipe.SloperPipeline.dq_init - INFO - DQInitStep instance created.\n",
      "2017-08-31 12:00:35,241 - stpipe.SloperPipeline.dark_current - INFO - DarkCurrentStep instance created.\n",
      "2017-08-31 12:00:35,243 - stpipe.SloperPipeline.persistence - INFO - PersistenceStep instance created.\n",
      "2017-08-31 12:00:35,247 - stpipe.SloperPipeline.superbias - INFO - SuperBiasStep instance created.\n",
      "2017-08-31 12:00:35,329 - stpipe.SloperPipeline - INFO - Step SloperPipeline running with args ('LRS-SLIT_demo_data/bkg_MIRIMAGE_P750Lexp1.fits',).\n",
      "2017-08-31 12:00:35,332 - stpipe.SloperPipeline - INFO - Starting calwebb_sloper ...\n",
      "2017-08-31 12:00:36,705 - stpipe.SloperPipeline.group_scale - INFO - Step group_scale running with args (<jwst.datamodels.miri_ramp.MIRIRampModel object at 0x1999105d0>,).\n",
      "2017-08-31 12:00:36,840 - stpipe.SloperPipeline.group_scale - WARNING - NFRAMES=1 is a power of 2\n",
      "2017-08-31 12:00:36,841 - stpipe.SloperPipeline.group_scale - WARNING - Step will be skipped\n",
      "2017-08-31 12:00:36,848 - stpipe.SloperPipeline.group_scale - INFO - Step group_scale done\n",
      "2017-08-31 12:00:38,992 - stpipe.SloperPipeline.dq_init - INFO - Prefetch for MASK reference file is '/Users/patrickkavanagh/crds_mirror/references/jwst/miri/jwst_miri_mask_0019.fits'.\n",
      "2017-08-31 12:00:39,062 - stpipe.SloperPipeline.dq_init - INFO - Step dq_init running with args (<jwst.datamodels.miri_ramp.MIRIRampModel object at 0x19d7cef90>,).\n",
      "2017-08-31 12:00:39,538 - stpipe.SloperPipeline.dq_init - INFO - Using MASK reference file /Users/patrickkavanagh/crds_mirror/references/jwst/miri/jwst_miri_mask_0019.fits\n",
      "2017-08-31 12:00:40,814 - stpipe.SloperPipeline.dq_init - INFO - Step dq_init done\n",
      "2017-08-31 12:00:41,476 - stpipe.SloperPipeline.saturation - INFO - Prefetch for SATURATION reference file is '/Users/patrickkavanagh/crds_mirror/references/jwst/miri/jwst_miri_saturation_0019.fits'.\n",
      "2017-08-31 12:00:41,543 - stpipe.SloperPipeline.saturation - INFO - Step saturation running with args (<jwst.datamodels.miri_ramp.MIRIRampModel object at 0x19d96cf90>,).\n",
      "2017-08-31 12:00:42,010 - stpipe.SloperPipeline.saturation - INFO - Using SATURATION reference file /Users/patrickkavanagh/crds_mirror/references/jwst/miri/jwst_miri_saturation_0019.fits\n",
      "2017-08-31 12:00:43,564 - stpipe.SloperPipeline.saturation - INFO - Step saturation done\n",
      "2017-08-31 12:00:44,249 - stpipe.SloperPipeline.ipc - INFO - Prefetch for IPC reference file is '/Users/patrickkavanagh/crds_mirror/references/jwst/miri/jwst_miri_ipc_0009.fits'.\n",
      "2017-08-31 12:00:44,316 - stpipe.SloperPipeline.ipc - INFO - Step ipc running with args (<jwst.datamodels.miri_ramp.MIRIRampModel object at 0x119ea7dd0>,).\n",
      "2017-08-31 12:00:44,802 - stpipe.SloperPipeline.ipc - INFO - Using IPC reference file /Users/patrickkavanagh/crds_mirror/references/jwst/miri/jwst_miri_ipc_0009.fits\n",
      "2017-08-31 12:00:48,781 - stpipe.SloperPipeline.ipc - INFO - Step ipc done\n",
      "2017-08-31 12:00:49,456 - stpipe.SloperPipeline.linearity - INFO - Prefetch for LINEARITY reference file is '/Users/patrickkavanagh/crds_mirror/references/jwst/miri/jwst_miri_linearity_0024.fits'.\n",
      "2017-08-31 12:00:49,523 - stpipe.SloperPipeline.linearity - INFO - Step linearity running with args (<jwst.datamodels.miri_ramp.MIRIRampModel object at 0x119dba410>,).\n",
      "2017-08-31 12:00:49,994 - stpipe.SloperPipeline.linearity - INFO - Using Linearity reference file /Users/patrickkavanagh/crds_mirror/references/jwst/miri/jwst_miri_linearity_0024.fits\n",
      "2017-08-31 12:00:52,543 - stpipe.SloperPipeline.linearity - INFO - Step linearity done\n",
      "2017-08-31 12:00:53,241 - stpipe.SloperPipeline.rscd - INFO - Prefetch for RSCD reference file is '/Users/patrickkavanagh/crds_mirror/references/jwst/miri/jwst_miri_rscd_0004.fits'.\n",
      "2017-08-31 12:00:53,311 - stpipe.SloperPipeline.rscd - INFO - Step rscd running with args (<jwst.datamodels.miri_ramp.MIRIRampModel object at 0x19d96cd90>,).\n",
      "2017-08-31 12:00:53,785 - stpipe.SloperPipeline.rscd - INFO - Using RSCD reference file /Users/patrickkavanagh/crds_mirror/references/jwst/miri/jwst_miri_rscd_0004.fits\n",
      "2017-08-31 12:01:28,155 - stpipe.SloperPipeline.rscd - INFO - Step rscd done\n",
      "2017-08-31 12:01:28,365 - stpipe.SloperPipeline.lastframe - INFO - Step lastframe running with args (<jwst.datamodels.miri_ramp.MIRIRampModel object at 0x119e54650>,).\n",
      "2017-08-31 12:01:29,394 - stpipe.SloperPipeline.lastframe - INFO - Step lastframe done\n",
      "2017-08-31 12:01:29,593 - stpipe.SloperPipeline.dark_current - INFO - Step dark_current running with args (<jwst.datamodels.miri_ramp.MIRIRampModel object at 0x1999101d0>,).\n",
      "2017-08-31 12:01:29,594 - stpipe.SloperPipeline.dark_current - INFO - Step skipped.\n",
      "2017-08-31 12:01:29,602 - stpipe.SloperPipeline.dark_current - INFO - Step dark_current done\n",
      "2017-08-31 12:01:30,129 - stpipe.SloperPipeline.refpix - INFO - Prefetch for REFPIX reference file is 'N/A'.\n",
      "2017-08-31 12:01:30,197 - stpipe.SloperPipeline.refpix - INFO - Step refpix running with args (<jwst.datamodels.miri_ramp.MIRIRampModel object at 0x1999101d0>,).\n",
      "2017-08-31 12:01:30,334 - stpipe.SloperPipeline.refpix - INFO - use_side_ref_pixels = True\n",
      "2017-08-31 12:01:30,335 - stpipe.SloperPipeline.refpix - INFO - odd_even_columns = True\n",
      "2017-08-31 12:01:30,336 - stpipe.SloperPipeline.refpix - INFO - side_smoothing_length = 11\n",
      "2017-08-31 12:01:30,337 - stpipe.SloperPipeline.refpix - INFO - side_gain = 1.000000\n",
      "2017-08-31 12:01:30,338 - stpipe.SloperPipeline.refpix - INFO - odd_even_rows = True\n",
      "2017-08-31 12:01:30,340 - stpipe.SloperPipeline.refpix - INFO - Subtracting initial read from each integration\n",
      "2017-08-31 12:01:31,780 - stpipe.SloperPipeline.refpix - INFO - Adding initial read back in\n",
      "2017-08-31 12:01:33,649 - stpipe.SloperPipeline.refpix - INFO - Step refpix done\n",
      "2017-08-31 12:01:34,309 - stpipe.SloperPipeline.persistence - INFO - Prefetch for PERSAT reference file is 'N/A'.\n",
      "2017-08-31 12:01:34,311 - stpipe.SloperPipeline.persistence - INFO - Prefetch for TRAPDENSITY reference file is 'N/A'.\n",
      "2017-08-31 12:01:34,311 - stpipe.SloperPipeline.persistence - INFO - Prefetch for TRAPPARS reference file is 'N/A'.\n",
      "2017-08-31 12:01:34,382 - stpipe.SloperPipeline.persistence - INFO - Step persistence running with args (<jwst.datamodels.miri_ramp.MIRIRampModel object at 0x19d7cef90>,).\n",
      "2017-08-31 12:01:36,384 - stpipe.SloperPipeline.persistence - WARNING - Missing reference file types:  PERSAT TRAPDENSITY TRAPPARS\n",
      "2017-08-31 12:01:36,395 - stpipe.SloperPipeline.persistence - INFO - Step persistence done\n",
      "2017-08-31 12:01:37,118 - stpipe.SloperPipeline.jump - INFO - Prefetch for GAIN reference file is '/Users/patrickkavanagh/crds_mirror/references/jwst/miri/jwst_miri_gain_0008.fits'.\n",
      "2017-08-31 12:01:37,120 - stpipe.SloperPipeline.jump - INFO - Prefetch for READNOISE reference file is '/Users/patrickkavanagh/crds_mirror/references/jwst/miri/jwst_miri_readnoise_0040.fits'.\n",
      "2017-08-31 12:01:37,198 - stpipe.SloperPipeline.jump - INFO - Step jump running with args (<jwst.datamodels.miri_ramp.MIRIRampModel object at 0x1998b2cd0>,).\n",
      "2017-08-31 12:01:37,325 - stpipe.SloperPipeline.jump - INFO - CR rejection threshold = 4 sigma\n",
      "2017-08-31 12:01:37,679 - stpipe.SloperPipeline.jump - INFO - Using GAIN reference file: /Users/patrickkavanagh/crds_mirror/references/jwst/miri/jwst_miri_gain_0008.fits\n"
     ]
    },
    {
     "name": "stderr",
     "output_type": "stream",
     "text": [
      "2017-08-31 12:01:38,069 - stpipe.SloperPipeline.jump - INFO - Using READNOISE reference file: /Users/patrickkavanagh/crds_mirror/references/jwst/miri/jwst_miri_readnoise_0040.fits\n",
      "2017-08-31 12:01:39,293 - stpipe.SloperPipeline.jump - INFO - Executing two-point difference method\n",
      "2017-08-31 12:01:59,337 - stpipe.SloperPipeline.jump - INFO - Step jump done\n",
      "2017-08-31 12:01:59,992 - stpipe.SloperPipeline.ramp_fit - INFO - Prefetch for GAIN reference file is '/Users/patrickkavanagh/crds_mirror/references/jwst/miri/jwst_miri_gain_0008.fits'.\n",
      "2017-08-31 12:01:59,993 - stpipe.SloperPipeline.ramp_fit - INFO - Prefetch for READNOISE reference file is '/Users/patrickkavanagh/crds_mirror/references/jwst/miri/jwst_miri_readnoise_0040.fits'.\n",
      "2017-08-31 12:02:00,070 - stpipe.SloperPipeline.ramp_fit - INFO - Step ramp_fit running with args (<jwst.datamodels.miri_ramp.MIRIRampModel object at 0x119eb0150>,).\n",
      "2017-08-31 12:02:00,923 - stpipe.SloperPipeline.ramp_fit - INFO - Using READNOISE reference file: /Users/patrickkavanagh/crds_mirror/references/jwst/miri/jwst_miri_readnoise_0040.fits\n",
      "2017-08-31 12:02:00,957 - stpipe.SloperPipeline.ramp_fit - INFO - Using GAIN reference file: /Users/patrickkavanagh/crds_mirror/references/jwst/miri/jwst_miri_gain_0008.fits\n",
      "2017-08-31 12:02:00,987 - stpipe.SloperPipeline.ramp_fit - INFO - Using algorithm = ols\n",
      "2017-08-31 12:02:00,989 - stpipe.SloperPipeline.ramp_fit - INFO - Using weighting = optimal\n",
      "2017-08-31 12:02:01,015 - stpipe.SloperPipeline.ramp_fit - INFO - Effective integration time per group: 2.77504\n",
      "2017-08-31 12:05:10,882 - stpipe.SloperPipeline.ramp_fit - INFO - Number of groups per integration: 50\n",
      "2017-08-31 12:05:10,884 - stpipe.SloperPipeline.ramp_fit - INFO - Number of integrations: 2\n",
      "2017-08-31 12:05:11,068 - stpipe.SloperPipeline.ramp_fit - INFO - Step.save_model LRS-SLIT_demo_data_test/bkg_MIRIMAGE_P750Lexp1_rateints.fits\n",
      "2017-08-31 12:05:11,214 - stpipe.SloperPipeline.ramp_fit - INFO - Step ramp_fit done\n",
      "2017-08-31 12:05:11,215 - stpipe.SloperPipeline - INFO - ... ending calwebb_sloper\n",
      "2017-08-31 12:05:11,224 - stpipe.SloperPipeline - INFO - Saving file LRS-SLIT_demo_data_test/bkg_MIRIMAGE_P750Lexp1_rate.fits\n",
      "2017-08-31 12:05:11,338 - stpipe.SloperPipeline - INFO - Step SloperPipeline done\n",
      "2017-08-31 12:05:11,348 - stpipe.SloperPipeline - INFO - SloperPipeline instance created.\n",
      "2017-08-31 12:05:11,350 - stpipe.SloperPipeline.group_scale - INFO - GroupScaleStep instance created.\n",
      "2017-08-31 12:05:11,352 - stpipe.SloperPipeline.saturation - INFO - SaturationStep instance created.\n",
      "2017-08-31 12:05:11,354 - stpipe.SloperPipeline.rscd - INFO - RSCD_Step instance created.\n",
      "2017-08-31 12:05:11,356 - stpipe.SloperPipeline.ipc - INFO - IPCStep instance created.\n",
      "2017-08-31 12:05:11,358 - stpipe.SloperPipeline.ramp_fit - INFO - RampFitStep instance created.\n",
      "2017-08-31 12:05:11,360 - stpipe.SloperPipeline.linearity - INFO - LinearityStep instance created.\n",
      "2017-08-31 12:05:11,362 - stpipe.SloperPipeline.jump - INFO - JumpStep instance created.\n",
      "2017-08-31 12:05:11,364 - stpipe.SloperPipeline.refpix - INFO - RefPixStep instance created.\n",
      "2017-08-31 12:05:11,365 - stpipe.SloperPipeline.lastframe - INFO - LastFrameStep instance created.\n",
      "2017-08-31 12:05:11,367 - stpipe.SloperPipeline.dq_init - INFO - DQInitStep instance created.\n",
      "2017-08-31 12:05:11,369 - stpipe.SloperPipeline.dark_current - INFO - DarkCurrentStep instance created.\n",
      "2017-08-31 12:05:11,372 - stpipe.SloperPipeline.persistence - INFO - PersistenceStep instance created.\n",
      "2017-08-31 12:05:11,374 - stpipe.SloperPipeline.superbias - INFO - SuperBiasStep instance created.\n",
      "2017-08-31 12:05:11,610 - stpipe.SloperPipeline - INFO - Step SloperPipeline running with args ('LRS-SLIT_demo_data/det_image_1_MIRIMAGE_P750Lexp1.fits',).\n",
      "2017-08-31 12:05:11,611 - stpipe.SloperPipeline - INFO - Starting calwebb_sloper ...\n",
      "2017-08-31 12:05:12,888 - stpipe.SloperPipeline.group_scale - INFO - Step group_scale running with args (<jwst.datamodels.miri_ramp.MIRIRampModel object at 0x19d996190>,).\n",
      "2017-08-31 12:05:13,024 - stpipe.SloperPipeline.group_scale - WARNING - NFRAMES=1 is a power of 2\n",
      "2017-08-31 12:05:13,025 - stpipe.SloperPipeline.group_scale - WARNING - Step will be skipped\n",
      "2017-08-31 12:05:13,032 - stpipe.SloperPipeline.group_scale - INFO - Step group_scale done\n",
      "2017-08-31 12:05:13,577 - stpipe.SloperPipeline.dq_init - INFO - Prefetch for MASK reference file is '/Users/patrickkavanagh/crds_mirror/references/jwst/miri/jwst_miri_mask_0019.fits'.\n",
      "2017-08-31 12:05:13,644 - stpipe.SloperPipeline.dq_init - INFO - Step dq_init running with args (<jwst.datamodels.miri_ramp.MIRIRampModel object at 0x199fd3d50>,).\n",
      "2017-08-31 12:05:14,112 - stpipe.SloperPipeline.dq_init - INFO - Using MASK reference file /Users/patrickkavanagh/crds_mirror/references/jwst/miri/jwst_miri_mask_0019.fits\n",
      "2017-08-31 12:05:15,308 - stpipe.SloperPipeline.dq_init - INFO - Step dq_init done\n",
      "2017-08-31 12:05:15,977 - stpipe.SloperPipeline.saturation - INFO - Prefetch for SATURATION reference file is '/Users/patrickkavanagh/crds_mirror/references/jwst/miri/jwst_miri_saturation_0019.fits'.\n",
      "2017-08-31 12:05:16,054 - stpipe.SloperPipeline.saturation - INFO - Step saturation running with args (<jwst.datamodels.miri_ramp.MIRIRampModel object at 0x11a0471d0>,).\n",
      "2017-08-31 12:05:16,539 - stpipe.SloperPipeline.saturation - INFO - Using SATURATION reference file /Users/patrickkavanagh/crds_mirror/references/jwst/miri/jwst_miri_saturation_0019.fits\n",
      "2017-08-31 12:05:18,196 - stpipe.SloperPipeline.saturation - INFO - Step saturation done\n",
      "2017-08-31 12:05:18,873 - stpipe.SloperPipeline.ipc - INFO - Prefetch for IPC reference file is '/Users/patrickkavanagh/crds_mirror/references/jwst/miri/jwst_miri_ipc_0009.fits'.\n",
      "2017-08-31 12:05:18,947 - stpipe.SloperPipeline.ipc - INFO - Step ipc running with args (<jwst.datamodels.miri_ramp.MIRIRampModel object at 0x21cfa2290>,).\n",
      "2017-08-31 12:05:19,433 - stpipe.SloperPipeline.ipc - INFO - Using IPC reference file /Users/patrickkavanagh/crds_mirror/references/jwst/miri/jwst_miri_ipc_0009.fits\n",
      "2017-08-31 12:05:23,362 - stpipe.SloperPipeline.ipc - INFO - Step ipc done\n",
      "2017-08-31 12:05:24,050 - stpipe.SloperPipeline.linearity - INFO - Prefetch for LINEARITY reference file is '/Users/patrickkavanagh/crds_mirror/references/jwst/miri/jwst_miri_linearity_0024.fits'.\n",
      "2017-08-31 12:05:24,127 - stpipe.SloperPipeline.linearity - INFO - Step linearity running with args (<jwst.datamodels.miri_ramp.MIRIRampModel object at 0x119e54650>,).\n",
      "2017-08-31 12:05:24,615 - stpipe.SloperPipeline.linearity - INFO - Using Linearity reference file /Users/patrickkavanagh/crds_mirror/references/jwst/miri/jwst_miri_linearity_0024.fits\n",
      "2017-08-31 12:05:27,142 - stpipe.SloperPipeline.linearity - INFO - Step linearity done\n",
      "2017-08-31 12:05:27,858 - stpipe.SloperPipeline.rscd - INFO - Prefetch for RSCD reference file is '/Users/patrickkavanagh/crds_mirror/references/jwst/miri/jwst_miri_rscd_0004.fits'.\n",
      "2017-08-31 12:05:27,928 - stpipe.SloperPipeline.rscd - INFO - Step rscd running with args (<jwst.datamodels.miri_ramp.MIRIRampModel object at 0x1998b2e90>,).\n",
      "2017-08-31 12:05:28,426 - stpipe.SloperPipeline.rscd - INFO - Using RSCD reference file /Users/patrickkavanagh/crds_mirror/references/jwst/miri/jwst_miri_rscd_0004.fits\n",
      "2017-08-31 12:06:02,990 - stpipe.SloperPipeline.rscd - INFO - Step rscd done\n",
      "2017-08-31 12:06:03,211 - stpipe.SloperPipeline.lastframe - INFO - Step lastframe running with args (<jwst.datamodels.miri_ramp.MIRIRampModel object at 0x119ea7dd0>,).\n",
      "2017-08-31 12:06:04,241 - stpipe.SloperPipeline.lastframe - INFO - Step lastframe done\n",
      "2017-08-31 12:06:04,447 - stpipe.SloperPipeline.dark_current - INFO - Step dark_current running with args (<jwst.datamodels.miri_ramp.MIRIRampModel object at 0x21c832910>,).\n",
      "2017-08-31 12:06:04,448 - stpipe.SloperPipeline.dark_current - INFO - Step skipped.\n",
      "2017-08-31 12:06:04,456 - stpipe.SloperPipeline.dark_current - INFO - Step dark_current done\n",
      "2017-08-31 12:06:04,994 - stpipe.SloperPipeline.refpix - INFO - Prefetch for REFPIX reference file is 'N/A'.\n",
      "2017-08-31 12:06:05,065 - stpipe.SloperPipeline.refpix - INFO - Step refpix running with args (<jwst.datamodels.miri_ramp.MIRIRampModel object at 0x21c832910>,).\n"
     ]
    },
    {
     "name": "stderr",
     "output_type": "stream",
     "text": [
      "2017-08-31 12:06:05,193 - stpipe.SloperPipeline.refpix - INFO - use_side_ref_pixels = True\n",
      "2017-08-31 12:06:05,194 - stpipe.SloperPipeline.refpix - INFO - odd_even_columns = True\n",
      "2017-08-31 12:06:05,196 - stpipe.SloperPipeline.refpix - INFO - side_smoothing_length = 11\n",
      "2017-08-31 12:06:05,197 - stpipe.SloperPipeline.refpix - INFO - side_gain = 1.000000\n",
      "2017-08-31 12:06:05,198 - stpipe.SloperPipeline.refpix - INFO - odd_even_rows = True\n",
      "2017-08-31 12:06:05,199 - stpipe.SloperPipeline.refpix - INFO - Subtracting initial read from each integration\n",
      "2017-08-31 12:06:06,637 - stpipe.SloperPipeline.refpix - INFO - Adding initial read back in\n",
      "2017-08-31 12:06:08,529 - stpipe.SloperPipeline.refpix - INFO - Step refpix done\n",
      "2017-08-31 12:06:09,225 - stpipe.SloperPipeline.persistence - INFO - Prefetch for PERSAT reference file is 'N/A'.\n",
      "2017-08-31 12:06:09,226 - stpipe.SloperPipeline.persistence - INFO - Prefetch for TRAPDENSITY reference file is 'N/A'.\n",
      "2017-08-31 12:06:09,227 - stpipe.SloperPipeline.persistence - INFO - Prefetch for TRAPPARS reference file is 'N/A'.\n",
      "2017-08-31 12:06:09,302 - stpipe.SloperPipeline.persistence - INFO - Step persistence running with args (<jwst.datamodels.miri_ramp.MIRIRampModel object at 0x21ceaff10>,).\n",
      "2017-08-31 12:06:11,360 - stpipe.SloperPipeline.persistence - WARNING - Missing reference file types:  PERSAT TRAPDENSITY TRAPPARS\n",
      "2017-08-31 12:06:11,372 - stpipe.SloperPipeline.persistence - INFO - Step persistence done\n",
      "2017-08-31 12:06:12,110 - stpipe.SloperPipeline.jump - INFO - Prefetch for GAIN reference file is '/Users/patrickkavanagh/crds_mirror/references/jwst/miri/jwst_miri_gain_0008.fits'.\n",
      "2017-08-31 12:06:12,111 - stpipe.SloperPipeline.jump - INFO - Prefetch for READNOISE reference file is '/Users/patrickkavanagh/crds_mirror/references/jwst/miri/jwst_miri_readnoise_0040.fits'.\n",
      "2017-08-31 12:06:12,185 - stpipe.SloperPipeline.jump - INFO - Step jump running with args (<jwst.datamodels.miri_ramp.MIRIRampModel object at 0x21ceaf090>,).\n",
      "2017-08-31 12:06:12,323 - stpipe.SloperPipeline.jump - INFO - CR rejection threshold = 4 sigma\n",
      "2017-08-31 12:06:12,730 - stpipe.SloperPipeline.jump - INFO - Using GAIN reference file: /Users/patrickkavanagh/crds_mirror/references/jwst/miri/jwst_miri_gain_0008.fits\n",
      "2017-08-31 12:06:13,116 - stpipe.SloperPipeline.jump - INFO - Using READNOISE reference file: /Users/patrickkavanagh/crds_mirror/references/jwst/miri/jwst_miri_readnoise_0040.fits\n",
      "2017-08-31 12:06:14,326 - stpipe.SloperPipeline.jump - INFO - Executing two-point difference method\n",
      "2017-08-31 12:06:34,837 - stpipe.SloperPipeline.jump - INFO - Step jump done\n",
      "2017-08-31 12:06:35,534 - stpipe.SloperPipeline.ramp_fit - INFO - Prefetch for GAIN reference file is '/Users/patrickkavanagh/crds_mirror/references/jwst/miri/jwst_miri_gain_0008.fits'.\n",
      "2017-08-31 12:06:35,535 - stpipe.SloperPipeline.ramp_fit - INFO - Prefetch for READNOISE reference file is '/Users/patrickkavanagh/crds_mirror/references/jwst/miri/jwst_miri_readnoise_0040.fits'.\n",
      "2017-08-31 12:06:35,604 - stpipe.SloperPipeline.ramp_fit - INFO - Step ramp_fit running with args (<jwst.datamodels.miri_ramp.MIRIRampModel object at 0x199fcce90>,).\n",
      "2017-08-31 12:06:36,451 - stpipe.SloperPipeline.ramp_fit - INFO - Using READNOISE reference file: /Users/patrickkavanagh/crds_mirror/references/jwst/miri/jwst_miri_readnoise_0040.fits\n",
      "2017-08-31 12:06:36,484 - stpipe.SloperPipeline.ramp_fit - INFO - Using GAIN reference file: /Users/patrickkavanagh/crds_mirror/references/jwst/miri/jwst_miri_gain_0008.fits\n",
      "2017-08-31 12:06:36,510 - stpipe.SloperPipeline.ramp_fit - INFO - Using algorithm = ols\n",
      "2017-08-31 12:06:36,511 - stpipe.SloperPipeline.ramp_fit - INFO - Using weighting = optimal\n",
      "2017-08-31 12:06:36,538 - stpipe.SloperPipeline.ramp_fit - INFO - Effective integration time per group: 2.77504\n",
      "2017-08-31 12:08:24,058 - stpipe.SloperPipeline.ramp_fit - WARNING - /Users/patrickkavanagh/anaconda/envs/jwstb7.1rc2/lib/python2.7/site-packages/jwst-0.7.8rc2-py2.7-macosx-10.7-x86_64.egg/jwst/ramp_fitting/ramp_fit.py:1991: RuntimeWarning: invalid value encountered in sqrt\n",
      "  new_var = np.sqrt(poiss_2d + rn_2d**2.)\n",
      "\n",
      "2017-08-31 12:09:47,033 - stpipe.SloperPipeline.ramp_fit - INFO - Number of groups per integration: 50\n",
      "2017-08-31 12:09:47,034 - stpipe.SloperPipeline.ramp_fit - INFO - Number of integrations: 2\n",
      "2017-08-31 12:09:47,208 - stpipe.SloperPipeline.ramp_fit - INFO - Step.save_model LRS-SLIT_demo_data_test/det_image_1_MIRIMAGE_P750Lexp1_rateints.fits\n",
      "2017-08-31 12:09:47,350 - stpipe.SloperPipeline.ramp_fit - INFO - Step ramp_fit done\n",
      "2017-08-31 12:09:47,351 - stpipe.SloperPipeline - INFO - ... ending calwebb_sloper\n",
      "2017-08-31 12:09:47,358 - stpipe.SloperPipeline - INFO - Saving file LRS-SLIT_demo_data_test/det_image_1_MIRIMAGE_P750Lexp1_rate.fits\n",
      "2017-08-31 12:09:47,470 - stpipe.SloperPipeline - INFO - Step SloperPipeline done\n"
     ]
    }
   ],
   "source": [
    "for input_file in all_input_files:\n",
    "    dm_2A = SloperPipeline.call(input_file, save_results=True, output_dir=output_dir, steps={'dark_current':{'skip':True}})\n"
   ]
  },
  {
   "cell_type": "markdown",
   "metadata": {},
   "source": [
    "#### Quick check of the pipeline steps applied in the output:"
   ]
  },
  {
   "cell_type": "code",
   "execution_count": 7,
   "metadata": {},
   "outputs": [
    {
     "name": "stdout",
     "output_type": "stream",
     "text": [
      "Check step information status:\n",
      "dq_init: COMPLETE\n",
      "saturation: COMPLETE\n",
      "linearity: COMPLETE\n",
      "rscd: COMPLETE\n",
      "lastframe: COMPLETE\n",
      "dark_current: None\n",
      "refpix: COMPLETE\n",
      "jump: COMPLETE\n",
      "ramp_fit: COMPLETE\n"
     ]
    }
   ],
   "source": [
    "level2A_files = glob.glob(os.path.join(output_dir,'*_rate.fits'))\n",
    "\n",
    "with datamodels.open(level2A_files[0]) as dm:\n",
    "    # check the calibration step information\n",
    "    print'Check step information status:'\n",
    "    print 'dq_init: %s' % dm.meta.cal_step.dq_init\n",
    "    print 'saturation: %s' % dm.meta.cal_step.saturation\n",
    "    print 'linearity: %s' % dm.meta.cal_step.linearity\n",
    "    print 'rscd: %s' % dm.meta.cal_step.rscd\n",
    "    print 'lastframe: %s' % dm.meta.cal_step.lastframe\n",
    "    print 'dark_current: %s' % dm.meta.cal_step.dark_sub\n",
    "    print 'refpix: %s' % dm.meta.cal_step.refpix\n",
    "    print 'jump: %s' % dm.meta.cal_step.jump\n",
    "    print 'ramp_fit: %s' % dm.meta.cal_step.ramp_fit"
   ]
  },
  {
   "cell_type": "markdown",
   "metadata": {},
   "source": [
    "### Level 2B pipeline"
   ]
  },
  {
   "cell_type": "markdown",
   "metadata": {},
   "source": [
    "#### import the level 2B pipeline class and print description"
   ]
  },
  {
   "cell_type": "code",
   "execution_count": 8,
   "metadata": {},
   "outputs": [
    {
     "name": "stdout",
     "output_type": "stream",
     "text": [
      "\n",
      "    Spec2Pipeline: Processes JWST spectroscopic exposures from Level 2a to 2b.\n",
      "    Accepts a single exposure or an association as input.\n",
      "\n",
      "    Included steps are:\n",
      "    assign_wcs, background subtraction, NIRSpec MSA imprint subtraction,\n",
      "    NIRSpec MSA bad shutter flagging, 2-D subwindow extraction, flat field,\n",
      "    source type decision, straylight, fringe, pathloss, photom, resample_spec,\n",
      "    cube_build, and extract_1d.\n",
      "    \n"
     ]
    }
   ],
   "source": [
    "from jwst.pipeline import Spec2Pipeline\n",
    "print Spec2Pipeline.__doc__"
   ]
  },
  {
   "cell_type": "markdown",
   "metadata": {},
   "source": [
    "For the LRS, the level 2B steps in order are: assign_wcs, bkg_subtract, flat_field, srctype, photom, cube_build, extract_1d\n",
    "\n",
    "The bkg_subtract subtract step requires an association file defining the source and background exposures. At the moment, there is no easy way to create one, so we define it manually in a cell and write to the association json file. "
   ]
  },
  {
   "cell_type": "code",
   "execution_count": 9,
   "metadata": {
    "collapsed": true
   },
   "outputs": [],
   "source": [
    "import json\n",
    "\n",
    "data = {\n",
    "    \"asn_rule\": \"Asn_Lv2Spec\",\n",
    "    \"asn_pool\": \"dummy_pool\",\n",
    "    \"program\": \"00000\",\n",
    "    \"asn_type\": \"spec2\",\n",
    "    \"products\": [\n",
    "        {\n",
    "            \"name\": \"lrs_bgsub_1\",\n",
    "            \"members\": [\n",
    "                {\n",
    "                    \"expname\": \"LRS-SLIT_demo_data_test/det_image_1_MIRIMAGE_P750Lexp1_rate.fits\",\n",
    "                    \"exptype\": \"science\"\n",
    "                },\n",
    "                {\n",
    "                    \"expname\": \"LRS-SLIT_demo_data_test/bkg_MIRIMAGE_P750Lexp1_rate.fits\",\n",
    "                    \"exptype\": \"background\"\n",
    "                }\n",
    "            ]\n",
    "        }\n",
    "    ]\n",
    "}\n",
    "\n",
    "with open('LRS_lvl2_asn.json', 'w') as outfile:  \n",
    "    json.dump(data, outfile)"
   ]
  },
  {
   "cell_type": "markdown",
   "metadata": {},
   "source": [
    "#### run pipeline\n",
    "We pass the level 2 assocation file. The output is contained in the dm_2B data model and saved to a fits file ending in '_cal.fits'."
   ]
  },
  {
   "cell_type": "code",
   "execution_count": 10,
   "metadata": {
    "scrolled": true
   },
   "outputs": [
    {
     "name": "stderr",
     "output_type": "stream",
     "text": [
      "2017-08-31 12:09:47,765 - stpipe.Spec2Pipeline - INFO - Spec2Pipeline instance created.\n",
      "2017-08-31 12:09:47,768 - stpipe.Spec2Pipeline.pathloss - INFO - PathLossStep instance created.\n",
      "2017-08-31 12:09:47,770 - stpipe.Spec2Pipeline.assign_wcs - INFO - AssignWcsStep instance created.\n",
      "2017-08-31 12:09:47,772 - stpipe.Spec2Pipeline.msa_flagging - INFO - MSAFlagOpenStep instance created.\n",
      "2017-08-31 12:09:47,774 - stpipe.Spec2Pipeline.imprint_subtract - INFO - ImprintStep instance created.\n",
      "2017-08-31 12:09:47,776 - stpipe.Spec2Pipeline.photom - INFO - PhotomStep instance created.\n",
      "2017-08-31 12:09:47,778 - stpipe.Spec2Pipeline.resample_spec - INFO - ResampleSpecStep instance created.\n",
      "2017-08-31 12:09:47,781 - stpipe.Spec2Pipeline.cube_build - INFO - CubeBuildStep instance created.\n",
      "2017-08-31 12:09:47,782 - stpipe.Spec2Pipeline.straylight - INFO - StraylightStep instance created.\n",
      "2017-08-31 12:09:47,784 - stpipe.Spec2Pipeline.bkg_subtract - INFO - BackgroundStep instance created.\n",
      "2017-08-31 12:09:47,786 - stpipe.Spec2Pipeline.extract_2d - INFO - Extract2dStep instance created.\n",
      "2017-08-31 12:09:47,790 - stpipe.Spec2Pipeline.fringe - INFO - FringeStep instance created.\n",
      "2017-08-31 12:09:47,793 - stpipe.Spec2Pipeline.flat_field - INFO - FlatFieldStep instance created.\n",
      "2017-08-31 12:09:47,796 - stpipe.Spec2Pipeline.srctype - INFO - SourceTypeStep instance created.\n",
      "2017-08-31 12:09:47,798 - stpipe.Spec2Pipeline.extract_1d - INFO - Extract1dStep instance created.\n",
      "2017-08-31 12:09:48,128 - stpipe.Spec2Pipeline - INFO - Step Spec2Pipeline running with args ('LRS_lvl2_asn.json',).\n",
      "2017-08-31 12:09:48,129 - stpipe.Spec2Pipeline - INFO - Starting calwebb_spec2 ...\n",
      "2017-08-31 12:09:48,135 - stpipe.Spec2Pipeline - INFO - Processing product lrs_bgsub_1\n",
      "2017-08-31 12:09:48,136 - stpipe.Spec2Pipeline - INFO - Working on input LRS-SLIT_demo_data_test/det_image_1_MIRIMAGE_P750Lexp1_rate.fits ...\n",
      "2017-08-31 12:09:48,894 - stpipe.Spec2Pipeline.assign_wcs - INFO - Prefetch for CAMERA reference file is 'N/A'.\n",
      "2017-08-31 12:09:48,895 - stpipe.Spec2Pipeline.assign_wcs - INFO - Prefetch for COLLIMATOR reference file is 'N/A'.\n",
      "2017-08-31 12:09:48,896 - stpipe.Spec2Pipeline.assign_wcs - INFO - Prefetch for DISPERSER reference file is 'N/A'.\n",
      "2017-08-31 12:09:48,897 - stpipe.Spec2Pipeline.assign_wcs - INFO - Prefetch for DISTORTION reference file is '/Users/patrickkavanagh/crds_mirror/references/jwst/miri/jwst_miri_distortion_0023.asdf'.\n",
      "2017-08-31 12:09:48,899 - stpipe.Spec2Pipeline.assign_wcs - INFO - Prefetch for FILTEROFFSET reference file is 'N/A'.\n",
      "2017-08-31 12:09:48,900 - stpipe.Spec2Pipeline.assign_wcs - INFO - Prefetch for FORE reference file is 'N/A'.\n",
      "2017-08-31 12:09:48,901 - stpipe.Spec2Pipeline.assign_wcs - INFO - Prefetch for FPA reference file is 'N/A'.\n",
      "2017-08-31 12:09:48,903 - stpipe.Spec2Pipeline.assign_wcs - INFO - Prefetch for IFUFORE reference file is 'N/A'.\n",
      "2017-08-31 12:09:48,904 - stpipe.Spec2Pipeline.assign_wcs - INFO - Prefetch for IFUPOST reference file is 'N/A'.\n",
      "2017-08-31 12:09:48,906 - stpipe.Spec2Pipeline.assign_wcs - INFO - Prefetch for IFUSLICER reference file is 'N/A'.\n",
      "2017-08-31 12:09:48,907 - stpipe.Spec2Pipeline.assign_wcs - INFO - Prefetch for MSA reference file is 'N/A'.\n",
      "2017-08-31 12:09:48,909 - stpipe.Spec2Pipeline.assign_wcs - INFO - Prefetch for OTE reference file is 'N/A'.\n",
      "2017-08-31 12:09:48,910 - stpipe.Spec2Pipeline.assign_wcs - INFO - Prefetch for REGIONS reference file is 'N/A'.\n",
      "2017-08-31 12:09:48,911 - stpipe.Spec2Pipeline.assign_wcs - INFO - Prefetch for SPECWCS reference file is '/Users/patrickkavanagh/crds_mirror/references/jwst/miri/jwst_miri_specwcs_0001.fits'.\n",
      "2017-08-31 12:09:48,912 - stpipe.Spec2Pipeline.assign_wcs - INFO - Prefetch for V2V3 reference file is 'N/A'.\n",
      "2017-08-31 12:09:48,913 - stpipe.Spec2Pipeline.assign_wcs - INFO - Prefetch for WAVELENGTHRANGE reference file is 'N/A'.\n",
      "2017-08-31 12:09:48,997 - stpipe.Spec2Pipeline.assign_wcs - INFO - Step assign_wcs running with args (<jwst.datamodels.image.ImageModel object at 0x199fc8190>,).\n",
      "2017-08-31 12:09:54,412 - stpipe.Spec2Pipeline.assign_wcs - WARNING - /Users/patrickkavanagh/anaconda/envs/jwstb7.1rc2/lib/python2.7/site-packages/asdf/asdftypes.py:262: UserWarning: 'tag:stsci.edu:asdf/transform/compose' with version 1.0.0 found in file 'file:///Users/patrickkavanagh/crds_mirror/references/jwst/miri/jwst_miri_distortion_0023.asdf', but latest supported version is 1.1.0\n",
      "  warnings.warn(warning_string.format(fname))\n",
      "\n",
      "2017-08-31 12:09:54,414 - stpipe.Spec2Pipeline.assign_wcs - WARNING - /Users/patrickkavanagh/anaconda/envs/jwstb7.1rc2/lib/python2.7/site-packages/asdf/asdftypes.py:240: UserWarning: 'tag:stsci.edu:asdf/transform/compose' with version 1.0.0 found in file 'file:///Users/patrickkavanagh/crds_mirror/references/jwst/miri/jwst_miri_distortion_0023.asdf', but latest supported version is 1.1.0\n",
      "  warnings.warn(warning_string.format(fname))\n",
      "\n",
      "2017-08-31 12:09:54,416 - stpipe.Spec2Pipeline.assign_wcs - WARNING - /Users/patrickkavanagh/anaconda/envs/jwstb7.1rc2/lib/python2.7/site-packages/asdf/asdftypes.py:262: UserWarning: 'tag:stsci.edu:asdf/transform/remap_axes' with version 1.0.0 found in file 'file:///Users/patrickkavanagh/crds_mirror/references/jwst/miri/jwst_miri_distortion_0023.asdf', but latest supported version is 1.1.0\n",
      "  warnings.warn(warning_string.format(fname))\n",
      "\n",
      "2017-08-31 12:09:54,418 - stpipe.Spec2Pipeline.assign_wcs - WARNING - /Users/patrickkavanagh/anaconda/envs/jwstb7.1rc2/lib/python2.7/site-packages/asdf/asdftypes.py:262: UserWarning: 'tag:stsci.edu:asdf/transform/concatenate' with version 1.0.0 found in file 'file:///Users/patrickkavanagh/crds_mirror/references/jwst/miri/jwst_miri_distortion_0023.asdf', but latest supported version is 1.1.0\n",
      "  warnings.warn(warning_string.format(fname))\n",
      "\n",
      "2017-08-31 12:09:54,419 - stpipe.Spec2Pipeline.assign_wcs - WARNING - /Users/patrickkavanagh/anaconda/envs/jwstb7.1rc2/lib/python2.7/site-packages/asdf/asdftypes.py:240: UserWarning: 'tag:stsci.edu:asdf/transform/concatenate' with version 1.0.0 found in file 'file:///Users/patrickkavanagh/crds_mirror/references/jwst/miri/jwst_miri_distortion_0023.asdf', but latest supported version is 1.1.0\n",
      "  warnings.warn(warning_string.format(fname))\n",
      "\n",
      "2017-08-31 12:09:54,420 - stpipe.Spec2Pipeline.assign_wcs - WARNING - /Users/patrickkavanagh/anaconda/envs/jwstb7.1rc2/lib/python2.7/site-packages/asdf/asdftypes.py:240: UserWarning: 'tag:stsci.edu:asdf/transform/remap_axes' with version 1.0.0 found in file 'file:///Users/patrickkavanagh/crds_mirror/references/jwst/miri/jwst_miri_distortion_0023.asdf', but latest supported version is 1.1.0\n",
      "  warnings.warn(warning_string.format(fname))\n",
      "\n",
      "2017-08-31 12:09:54,422 - stpipe.Spec2Pipeline.assign_wcs - WARNING - /Users/patrickkavanagh/anaconda/envs/jwstb7.1rc2/lib/python2.7/site-packages/asdf/asdftypes.py:262: UserWarning: 'tag:stsci.edu:asdf/transform/identity' with version 1.0.0 found in file 'file:///Users/patrickkavanagh/crds_mirror/references/jwst/miri/jwst_miri_distortion_0023.asdf', but latest supported version is 1.1.0\n",
      "  warnings.warn(warning_string.format(fname))\n",
      "\n",
      "2017-08-31 12:09:54,423 - stpipe.Spec2Pipeline.assign_wcs - WARNING - /Users/patrickkavanagh/anaconda/envs/jwstb7.1rc2/lib/python2.7/site-packages/asdf/asdftypes.py:240: UserWarning: 'tag:stsci.edu:asdf/transform/identity' with version 1.0.0 found in file 'file:///Users/patrickkavanagh/crds_mirror/references/jwst/miri/jwst_miri_distortion_0023.asdf', but latest supported version is 1.1.0\n",
      "  warnings.warn(warning_string.format(fname))\n",
      "\n",
      "2017-08-31 12:09:54,425 - stpipe.Spec2Pipeline.assign_wcs - WARNING - /Users/patrickkavanagh/anaconda/envs/jwstb7.1rc2/lib/python2.7/site-packages/asdf/asdftypes.py:262: UserWarning: 'tag:stsci.edu:asdf/transform/scale' with version 1.0.0 found in file 'file:///Users/patrickkavanagh/crds_mirror/references/jwst/miri/jwst_miri_distortion_0023.asdf', but latest supported version is 1.1.0\n",
      "  warnings.warn(warning_string.format(fname))\n",
      "\n",
      "2017-08-31 12:09:54,426 - stpipe.Spec2Pipeline.assign_wcs - WARNING - /Users/patrickkavanagh/anaconda/envs/jwstb7.1rc2/lib/python2.7/site-packages/asdf/asdftypes.py:240: UserWarning: 'tag:stsci.edu:asdf/transform/scale' with version 1.0.0 found in file 'file:///Users/patrickkavanagh/crds_mirror/references/jwst/miri/jwst_miri_distortion_0023.asdf', but latest supported version is 1.1.0\n",
      "  warnings.warn(warning_string.format(fname))\n",
      "\n"
     ]
    },
    {
     "name": "stderr",
     "output_type": "stream",
     "text": [
      "2017-08-31 12:09:54,428 - stpipe.Spec2Pipeline.assign_wcs - WARNING - /Users/patrickkavanagh/anaconda/envs/jwstb7.1rc2/lib/python2.7/site-packages/asdf/asdftypes.py:262: UserWarning: 'tag:stsci.edu:asdf/transform/shift' with version 1.0.0 found in file 'file:///Users/patrickkavanagh/crds_mirror/references/jwst/miri/jwst_miri_distortion_0023.asdf', but latest supported version is 1.1.0\n",
      "  warnings.warn(warning_string.format(fname))\n",
      "\n",
      "2017-08-31 12:09:54,430 - stpipe.Spec2Pipeline.assign_wcs - WARNING - /Users/patrickkavanagh/anaconda/envs/jwstb7.1rc2/lib/python2.7/site-packages/asdf/asdftypes.py:240: UserWarning: 'tag:stsci.edu:asdf/transform/shift' with version 1.0.0 found in file 'file:///Users/patrickkavanagh/crds_mirror/references/jwst/miri/jwst_miri_distortion_0023.asdf', but latest supported version is 1.1.0\n",
      "  warnings.warn(warning_string.format(fname))\n",
      "\n",
      "2017-08-31 12:09:54,431 - stpipe.Spec2Pipeline.assign_wcs - WARNING - /Users/patrickkavanagh/anaconda/envs/jwstb7.1rc2/lib/python2.7/site-packages/asdf/asdftypes.py:262: UserWarning: 'tag:stsci.edu:asdf/transform/polynomial' with version 1.0.0 found in file 'file:///Users/patrickkavanagh/crds_mirror/references/jwst/miri/jwst_miri_distortion_0023.asdf', but latest supported version is 1.1.0\n",
      "  warnings.warn(warning_string.format(fname))\n",
      "\n",
      "2017-08-31 12:09:54,432 - stpipe.Spec2Pipeline.assign_wcs - WARNING - /Users/patrickkavanagh/anaconda/envs/jwstb7.1rc2/lib/python2.7/site-packages/asdf/asdftypes.py:240: UserWarning: 'tag:stsci.edu:asdf/transform/polynomial' with version 1.0.0 found in file 'file:///Users/patrickkavanagh/crds_mirror/references/jwst/miri/jwst_miri_distortion_0023.asdf', but latest supported version is 1.1.0\n",
      "  warnings.warn(warning_string.format(fname))\n",
      "\n",
      "2017-08-31 12:09:55,370 - stpipe.Spec2Pipeline.assign_wcs - INFO - COMPLETED assign_wcs\n",
      "2017-08-31 12:09:55,403 - stpipe.Spec2Pipeline.assign_wcs - INFO - Step assign_wcs done\n",
      "2017-08-31 12:09:55,473 - stpipe.Spec2Pipeline.bkg_subtract - INFO - Step bkg_subtract running with args (<jwst.datamodels.image.ImageModel object at 0x199f87f90>, ['LRS-SLIT_demo_data_test/bkg_MIRIMAGE_P750Lexp1_rate.fits']).\n",
      "2017-08-31 12:09:56,165 - stpipe.Spec2Pipeline.bkg_subtract - INFO - Step bkg_subtract done\n",
      "2017-08-31 12:09:56,779 - stpipe.Spec2Pipeline.flat_field - INFO - Prefetch for DFLAT reference file is 'N/A'.\n",
      "2017-08-31 12:09:56,780 - stpipe.Spec2Pipeline.flat_field - INFO - Prefetch for FFLAT reference file is 'N/A'.\n",
      "2017-08-31 12:09:56,781 - stpipe.Spec2Pipeline.flat_field - INFO - Prefetch for FLAT reference file is '/Users/patrickkavanagh/crds_mirror/references/jwst/miri/jwst_miri_flat_0244.fits'.\n",
      "2017-08-31 12:09:56,782 - stpipe.Spec2Pipeline.flat_field - INFO - Prefetch for SFLAT reference file is 'N/A'.\n",
      "2017-08-31 12:09:56,861 - stpipe.Spec2Pipeline.flat_field - INFO - Step flat_field running with args (<jwst.datamodels.image.ImageModel object at 0x19aaa15d0>,).\n",
      "2017-08-31 12:09:57,487 - stpipe.Spec2Pipeline.flat_field - WARNING - Keyword CDP_PARTIAL_DATA does not correspond to an existing DQ mnemonic, so will be ignored\n",
      "2017-08-31 12:09:57,488 - stpipe.Spec2Pipeline.flat_field - WARNING - Keyword CDP_LOW_QUAL does not correspond to an existing DQ mnemonic, so will be ignored\n",
      "2017-08-31 12:09:57,490 - stpipe.Spec2Pipeline.flat_field - WARNING - Keyword CDP_UNRELIABLE_ERROR does not correspond to an existing DQ mnemonic, so will be ignored\n",
      "2017-08-31 12:09:57,496 - stpipe.Spec2Pipeline.flat_field - WARNING - Keyword DIFF_PATTERN does not correspond to an existing DQ mnemonic, so will be ignored\n",
      "2017-08-31 12:09:57,750 - stpipe.Spec2Pipeline.flat_field - INFO - Step flat_field done\n",
      "2017-08-31 12:09:57,843 - stpipe.Spec2Pipeline.srctype - INFO - Step srctype running with args (<jwst.datamodels.image.ImageModel object at 0x199d4ca10>,).\n",
      "2017-08-31 12:09:57,968 - stpipe.Spec2Pipeline.srctype - INFO - Input EXP_TYPE is MIR_LRS-FIXEDSLIT\n",
      "2017-08-31 12:09:57,969 - stpipe.Spec2Pipeline.srctype - INFO - Input SRCTYPE is unknown. Setting to default value of POINT\n",
      "2017-08-31 12:09:57,994 - stpipe.Spec2Pipeline.srctype - INFO - Step srctype done\n",
      "2017-08-31 12:09:58,566 - stpipe.Spec2Pipeline.photom - INFO - Prefetch for AREA reference file is 'N/A'.\n",
      "2017-08-31 12:09:58,567 - stpipe.Spec2Pipeline.photom - INFO - Prefetch for PHOTOM reference file is '/Users/patrickkavanagh/crds_mirror/references/jwst/miri/jwst_miri_photom_0014.fits'.\n",
      "2017-08-31 12:09:58,646 - stpipe.Spec2Pipeline.photom - INFO - Step photom running with args (<jwst.datamodels.image.ImageModel object at 0x119df7a10>,).\n",
      "2017-08-31 12:09:59,123 - stpipe.Spec2Pipeline.photom - INFO - Using photom reference file: /Users/patrickkavanagh/crds_mirror/references/jwst/miri/jwst_miri_photom_0014.fits\n",
      "2017-08-31 12:09:59,495 - stpipe.Spec2Pipeline.photom - INFO - Using area reference file: N/A\n",
      "2017-08-31 12:09:59,497 - stpipe.Spec2Pipeline.photom - INFO - Using instrument: MIRI\n",
      "2017-08-31 12:09:59,498 - stpipe.Spec2Pipeline.photom - INFO -  detector: MIRIMAGE\n",
      "2017-08-31 12:09:59,499 - stpipe.Spec2Pipeline.photom - INFO -  exp_type: MIR_LRS-FIXEDSLIT\n",
      "2017-08-31 12:09:59,500 - stpipe.Spec2Pipeline.photom - INFO -  filter: P750L\n",
      "2017-08-31 12:09:59,563 - stpipe.Spec2Pipeline.photom - INFO -  subarray: FULL\n",
      "2017-08-31 12:09:59,582 - stpipe.Spec2Pipeline.photom - INFO - Relative response table written.\n",
      "2017-08-31 12:09:59,583 - stpipe.Spec2Pipeline.photom - INFO - Writing PHOTMJSR with value: 1\n",
      "2017-08-31 12:09:59,614 - stpipe.Spec2Pipeline.photom - INFO - Step photom done\n",
      "2017-08-31 12:10:00,176 - stpipe.Spec2Pipeline.extract_1d - INFO - Prefetch for EXTRACT1D reference file is '/Users/patrickkavanagh/crds_mirror/references/jwst/miri/jwst_miri_extract1d_0004.json'.\n",
      "2017-08-31 12:10:00,265 - stpipe.Spec2Pipeline.extract_1d - INFO - Step extract_1d running with args (<jwst.datamodels.image.ImageModel object at 0x199865890>,).\n",
      "2017-08-31 12:10:00,790 - stpipe.Spec2Pipeline.extract_1d - INFO - Using EXTRACT1D reference file /Users/patrickkavanagh/crds_mirror/references/jwst/miri/jwst_miri_extract1d_0004.json\n",
      "2017-08-31 12:10:00,931 - stpipe.Spec2Pipeline.extract_1d - WARNING - 1 NaNs in wavelength array; set to 0.01\n",
      "2017-08-31 12:10:00,959 - stpipe.Spec2Pipeline.extract_1d - WARNING - Using RELSENS, 388 elements were extrapolated; these values will be set to 1.\n",
      "2017-08-31 12:10:01,181 - stpipe.Spec2Pipeline.extract_1d - INFO - Saving file LRS-SLIT_demo_data_test/lrs_bgsub_1_x1d.fits\n",
      "2017-08-31 12:10:01,292 - stpipe.Spec2Pipeline.extract_1d - INFO - Step extract_1d done\n",
      "2017-08-31 12:10:01,294 - stpipe.Spec2Pipeline - INFO - Finished processing product lrs_bgsub_1\n",
      "2017-08-31 12:10:01,295 - stpipe.Spec2Pipeline - INFO - Step.save_model LRS-SLIT_demo_data_test/lrs_bgsub_1_cal.fits\n",
      "2017-08-31 12:10:01,607 - stpipe.Spec2Pipeline - INFO - Ending calwebb_spec2\n",
      "2017-08-31 12:10:01,609 - stpipe.Spec2Pipeline - INFO - Step Spec2Pipeline done\n"
     ]
    }
   ],
   "source": [
    "Spec2Pipeline.call('LRS_lvl2_asn.json', save_results=True, output_dir=output_dir, steps={'extract_1d':{'save_results':True}})\n"
   ]
  },
  {
   "cell_type": "markdown",
   "metadata": {},
   "source": [
    "### check of output\n",
    "\n",
    "The level 2B pipeline for the LRS produces a background subtracted level 2B (_cal.fits).\n",
    "\n",
    "We can have a look at the steps applied to this file in the level 2B pipeline"
   ]
  },
  {
   "cell_type": "code",
   "execution_count": 11,
   "metadata": {},
   "outputs": [
    {
     "name": "stdout",
     "output_type": "stream",
     "text": [
      "Check step information status:\n",
      "assign_wcs: COMPLETE\n",
      "bkg_subtract: COMPLETE\n",
      "flat_field: COMPLETE\n",
      "srctype: COMPLETE\n",
      "photom: COMPLETE\n"
     ]
    }
   ],
   "source": [
    "# set the output file names\n",
    "level2B_files = glob.glob(os.path.join(output_dir,'*_cal.fits'))\n",
    "\n",
    "with datamodels.open(level2B_files[0]) as dm:\n",
    "    # check the calibration step information\n",
    "    print'Check step information status:'\n",
    "    print 'assign_wcs: %s' % dm.meta.cal_step.assign_wcs\n",
    "    print 'bkg_subtract: %s' % dm.meta.cal_step.back_sub\n",
    "    print 'flat_field: %s' % dm.meta.cal_step.flat_field\n",
    "    print 'srctype: %s' % dm.meta.cal_step.srctype\n",
    "    print 'photom: %s' % dm.meta.cal_step.photom\n"
   ]
  },
  {
   "cell_type": "markdown",
   "metadata": {},
   "source": [
    "#### plot the spectrum"
   ]
  },
  {
   "cell_type": "code",
   "execution_count": 12,
   "metadata": {},
   "outputs": [
    {
     "data": {
      "image/png": "[encoded data removed]",
      "text/plain": [
       "<matplotlib.figure.Figure at 0x19d987ad0>"
      ]
     },
     "metadata": {},
     "output_type": "display_data"
    }
   ],
   "source": [
    "spec_file = glob.glob(os.path.join(output_dir,\"*x1d.fits\"))[0]\n",
    "dm = datamodels.open(spec_file)\n",
    "\n",
    "fig, axs = plt.subplots(1, 1, figsize=(10, 7))\n",
    "\n",
    "# plot the spectrum \n",
    "axs.plot(dm.spec[0].spec_table['WAVELENGTH'][1:-1], dm.spec[0].spec_table['FLUX'][1:-1], c='b', marker='.', \n",
    "         markersize=0, linestyle='-', linewidth=2)\n",
    "axs.set_ylabel(r'Flux ($\\mu$Jy)')\n",
    "axs.set_xlabel(r'Wavelength ($\\mu$m)')\n",
    "#axs.set_xlim(4.9,5.7)\n",
    "#axs[0].set_ylim(0,6000)\n",
    "\n",
    "\n",
    "plt.show()"
   ]
  },
  {
   "cell_type": "code",
   "execution_count": null,
   "metadata": {
    "collapsed": true
   },
   "outputs": [],
   "source": []
  }
 ],
 "metadata": {
  "anaconda-cloud": {},
  "kernelspec": {
   "display_name": "Python 2",
   "language": "python",
   "name": "python2"
  },
  "language_info": {
   "codemirror_mode": {
    "name": "ipython",
    "version": 2
   },
   "file_extension": ".py",
   "mimetype": "text/x-python",
   "name": "python",
   "nbconvert_exporter": "python",
   "pygments_lexer": "ipython2",
   "version": "2.7.13"
  }
 },
 "nbformat": 4,
 "nbformat_minor": 1
}
